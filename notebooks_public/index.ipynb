{
 "cells": [
  {
   "cell_type": "markdown",
   "metadata": {},
   "source": [
    "# [nbpages](https://jckantor.github.io/nbpages)\n",
    "\n",
    "## Keyword Index\n",
    "\n",
    "* notebook format\n",
    "    - [1.0 Style Guide](https://nbviewer.jupyter.org/github/jckantor/nbpages/blob/master/notebooks_public/01.00-Style-Guide.ipynb#1.0-Style-Guide)\n",
    "* style guide\n",
    "    - [1.0 Style Guide](https://nbviewer.jupyter.org/github/jckantor/nbpages/blob/master/notebooks_public/01.00-Style-Guide.ipynb#1.0-Style-Guide)\n",
    "\n",
    "## Tag Index\n",
    "\n",
    "* mathematics\n",
    "    - [1.0.4.3 Mathematics](https://nbviewer.jupyter.org/github/jckantor/nbpages/blob/master/notebooks_public/01.00-Style-Guide.ipynb#1.0.4.3-Mathematics)\n",
    "    - [2.0 Examples](https://nbviewer.jupyter.org/github/jckantor/nbpages/blob/master/notebooks_public/02.00-Examples.ipynb#2.0-Examples)\n",
    "* hi::world\n",
    "    - [2.0 Examples](https://nbviewer.jupyter.org/github/jckantor/nbpages/blob/master/notebooks_public/02.00-Examples.ipynb#2.0-Examples)\n",
    "* exercise\n",
    "    - [2.0 Examples](https://nbviewer.jupyter.org/github/jckantor/nbpages/blob/master/notebooks_public/02.00-Examples.ipynb#2.0-Examples)\n",
    "* solution\n",
    "    - [2.0 Examples](https://nbviewer.jupyter.org/github/jckantor/nbpages/blob/master/notebooks_public/02.00-Examples.ipynb#2.0-Examples)"
   ]
  }
 ],
 "metadata": {},
 "nbformat": 4,
 "nbformat_minor": 2
}
