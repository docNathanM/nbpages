{
 "cells": [
  {
   "cell_type": "markdown",
   "metadata": {},
   "source": [
    "# [nbpages](https://jckantor.github.io/nbpages)\n",
    "\n",
    "\n",
    "## [Chapter 1.0 Style Guide](html/01.00-Style-Guide.html)\n",
    "- [Notebook naming and ancillary/generated files](http://nbviewer.jupyter.org/github/jckantor/nbpages/blob/master/notebooks/01.00-Style-Guide.ipynb#Notebook-naming-and-ancillary/generated-files)\n",
    "- [Notebook title and headers](http://nbviewer.jupyter.org/github/jckantor/nbpages/blob/master/notebooks/01.00-Style-Guide.ipynb#Notebook-title-and-headers)\n",
    "    - [Title](http://nbviewer.jupyter.org/github/jckantor/nbpages/blob/master/notebooks/01.00-Style-Guide.ipynb#Title)\n",
    "    - [Subheadings](http://nbviewer.jupyter.org/github/jckantor/nbpages/blob/master/notebooks/01.00-Style-Guide.ipynb#Subheadings)\n",
    "    - [Orphan headings](http://nbviewer.jupyter.org/github/jckantor/nbpages/blob/master/notebooks/01.00-Style-Guide.ipynb#Orphan-headings)\n",
    "    - [Keywords](http://nbviewer.jupyter.org/github/jckantor/nbpages/blob/master/notebooks/01.00-Style-Guide.ipynb#Keywords)\n",
    "- [External files](http://nbviewer.jupyter.org/github/jckantor/nbpages/blob/master/notebooks/01.00-Style-Guide.ipynb#External-files)\n",
    "    - [Figures](http://nbviewer.jupyter.org/github/jckantor/nbpages/blob/master/notebooks/01.00-Style-Guide.ipynb#Figures)\n",
    "    - [Data](http://nbviewer.jupyter.org/github/jckantor/nbpages/blob/master/notebooks/01.00-Style-Guide.ipynb#Data)\n",
    "- [Design for portability](http://nbviewer.jupyter.org/github/jckantor/nbpages/blob/master/notebooks/01.00-Style-Guide.ipynb#Design-for-portability)\n",
    "    - [Installations and imports](http://nbviewer.jupyter.org/github/jckantor/nbpages/blob/master/notebooks/01.00-Style-Guide.ipynb#Installations-and-imports)\n",
    "    - [Markdown](http://nbviewer.jupyter.org/github/jckantor/nbpages/blob/master/notebooks/01.00-Style-Guide.ipynb#Markdown)\n",
    "    - [Mathematics](http://nbviewer.jupyter.org/github/jckantor/nbpages/blob/master/notebooks/01.00-Style-Guide.ipynb#Mathematics)\n",
    "- [Further reading](http://nbviewer.jupyter.org/github/jckantor/nbpages/blob/master/notebooks/01.00-Style-Guide.ipynb#Further-reading)\n",
    "* Figures\n",
    "    - []()\n",
    "* Links\n",
    "    - [Space Telescope Science Institute Style Guide](https://github.com/spacetelescope/style-guides/blob/master/guides/jupyter-notebooks.md)\n",
    "    - [Jupyter notebook best practices and style guide](https://github.com/chrisvoncsefalvay/jupyter-best-practices)\n",
    "    - [Dataquest: An In-Depth Style Guide for Data Science Projects](https://www.dataquest.io/blog/data-science-project-style-guide/)\n",
    "    - [ESRI: Coding Standards for Jupyter Notebook](https://www.esri.com/about/newsroom/arcuser/coding-standards-for-jupyter-notebook/)\n",
    "\n",
    "\n",
    "## [Chapter 2.0 Examples](html/02.00-Examples.html)\n",
    "* Links\n",
    "    - [CBE 20255 Introduction to Chemical Engineering Analysis](http://jckantor.github.io/CBE20255/)\n",
    "    - [CBE 30338 Chemical Process Control](http://jckantor.github.io/CBE30338/)\n",
    "    - [CBE 40455 Process Operations](http://jckantor.github.io/CBE40455/)\n",
    "    - [ND Pyomo Cookbook](https://jckantor.github.io/ND-Pyomo-Cookbook/)\n",
    "    - [nbpages](https://jckantor.github.io/nbpages/)\n",
    "    - [Controlling Natural Watersheds](https://jckantor.github.io/Controlling-Natural-Watersheds/)"
   ]
  }
 ],
 "metadata": {},
 "nbformat": 4,
 "nbformat_minor": 2
}
