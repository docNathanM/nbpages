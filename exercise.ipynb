{
 "cells": [
  {
   "cell_type": "markdown",
   "metadata": {
    "nbpages": {
     "level": 3,
     "link": "[2.1.2.1 Exercise 1.](https://jckantor.github.io/nbpages/02.01-Tagging.html#2.1.2.1-Exercise-1.)",
     "section": "2.1.2.1 Exercise 1."
    },
    "tags": [
     "exercise"
    ]
   },
   "source": [
    "### 2.1.2.1 Exercise 1.\n",
    "\n",
    "In the following cell write a function that returns the square of a number."
   ]
  },
  {
   "cell_type": "code",
   "execution_count": 6,
   "metadata": {
    "nbpages": {
     "level": 3,
     "link": "[2.1.2.1 Exercise 1.](https://jckantor.github.io/nbpages/02.01-Tagging.html#2.1.2.1-Exercise-1.)",
     "section": "2.1.2.1 Exercise 1."
    },
    "tags": [
     "exercise"
    ]
   },
   "outputs": [],
   "source": [
    "# write a function that returns the square of a number\n",
    "\n",
    "### BEGIN SOLUTION\n",
    "def sqr(x):\n",
    "    return x**2\n",
    "### END SOLUTION\n",
    "\n",
    "assert sqr(2) == 4\n",
    "assert sqr(-1) == 1\n",
    "\n",
    "### BEGIN HIDDEN TESTS\n",
    "assert sqr(3) == 9\n",
    "assert abs(sqr(3.3) - 10.89) < 0.001\n",
    "### END HIDDEN TESTS"
   ]
  }
 ],
 "metadata": {
  "kernelspec": {
   "display_name": "Python 3",
   "language": "python",
   "name": "python3"
  },
  "language_info": {
   "codemirror_mode": {
    "name": "ipython",
    "version": 3
   },
   "file_extension": ".py",
   "mimetype": "text/x-python",
   "name": "python",
   "nbconvert_exporter": "python",
   "pygments_lexer": "ipython3",
   "version": "3.7.4"
  }
 },
 "nbformat": 4,
 "nbformat_minor": 2
}
