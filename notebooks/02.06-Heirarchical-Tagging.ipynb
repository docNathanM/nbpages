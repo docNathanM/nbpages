{
 "cells": [
  {
   "cell_type": "markdown",
   "metadata": {},
   "source": [
    "# Heirarchical Tagging"
   ]
  },
  {
   "cell_type": "markdown",
   "metadata": {},
   "source": [
    "## Tags\n",
    "\n",
    "Create a collection of tag comprised of strings separated by a ``::``"
   ]
  },
  {
   "cell_type": "code",
   "execution_count": 126,
   "metadata": {},
   "outputs": [
    {
     "name": "stdout",
     "output_type": "stream",
     "text": [
      "0 author::Felder-Rousseau\n",
      "1 author::Jones\n",
      "2 author::Jones::Chapter 3\n",
      "3 exercise::differential equations\n",
      "4 exercise\n",
      "5 author::Jones::Chapter 1\n",
      "6 exercise::differential equations\n",
      "7 author::Smith::page 23\n"
     ]
    }
   ],
   "source": [
    "from collections import defaultdict\n",
    "\n",
    "tags = [\n",
    "    \"author::Felder-Rousseau\",\n",
    "    \"author::Jones\",\n",
    "    \"author::Jones::Chapter 3\",\n",
    "    \"exercise::differential equations\",\n",
    "    \"exercise\",\n",
    "    \"author::Jones::Chapter 1\",\n",
    "    \"exercise::differential equations\",\n",
    "    \"author::Smith::page 23\",\n",
    "]\n",
    "\n",
    "for k, tag in enumerate(tags):\n",
    "    print(k, tag)"
   ]
  },
  {
   "cell_type": "markdown",
   "metadata": {},
   "source": [
    "## Indexing\n",
    "\n",
    "Scan the tags, splitting on ``::``, and using the resulting tuple to index a dictionary. The dictionary values are a list of items referring to the source of the tag. In this case we use line numbers, in an indexing application we could use a link to notebook cell."
   ]
  },
  {
   "cell_type": "code",
   "execution_count": 52,
   "metadata": {},
   "outputs": [
    {
     "data": {
      "text/plain": [
       "defaultdict(list,\n",
       "            {('author', 'Felder-Rousseau'): [0],\n",
       "             ('author', 'Jones'): [1],\n",
       "             ('author', 'Jones', 'Chapter 3'): [2],\n",
       "             ('exercise', 'differential equations'): [3, 6],\n",
       "             ('exercise',): [4],\n",
       "             ('author', 'Jones', 'Chapter 1'): [5],\n",
       "             ('author', 'Smith', 'page 23'): [7]})"
      ]
     },
     "execution_count": 52,
     "metadata": {},
     "output_type": "execute_result"
    }
   ],
   "source": [
    "dd = defaultdict(list)\n",
    "\n",
    "cnt = 0\n",
    "for tag in tags:\n",
    "    key = tuple(tag.split(\"::\"))\n",
    "    dd[key].append(cnt)\n",
    "    cnt += 1\n",
    "dd"
   ]
  },
  {
   "cell_type": "markdown",
   "metadata": {},
   "source": [
    "## Sorting\n",
    "\n",
    "The keys of the dictionary can be sorted with a multi-index."
   ]
  },
  {
   "cell_type": "code",
   "execution_count": 114,
   "metadata": {},
   "outputs": [
    {
     "name": "stdout",
     "output_type": "stream",
     "text": [
      "('author', 'Felder-Rousseau')\n",
      "('author', 'Jones')\n",
      "('author', 'Jones', 'Chapter 1')\n",
      "('author', 'Jones', 'Chapter 3')\n",
      "('author', 'Smith', 'page 23')\n",
      "('exercise',)\n",
      "('exercise', 'differential equations')\n"
     ]
    }
   ],
   "source": [
    "sort_fcn = lambda key: [s.lower() for s in key]\n",
    "for key in sorted(dd.keys(), key=sort_fcn):\n",
    "    print(key)"
   ]
  },
  {
   "cell_type": "markdown",
   "metadata": {},
   "source": [
    "## Printing"
   ]
  },
  {
   "cell_type": "code",
   "execution_count": 139,
   "metadata": {
    "scrolled": false
   },
   "outputs": [
    {
     "name": "stdout",
     "output_type": "stream",
     "text": [
      "3 deep heirarchy\n",
      "\n",
      "* author\n",
      "    * Felder-Rousseau\n",
      "        [tagged on line 0]()\n",
      "\n",
      "    * Jones\n",
      "        [tagged on line 1]()\n",
      "\n",
      "        * Chapter 1\n",
      "            [tagged on line 5]()\n",
      "\n",
      "        * Chapter 3\n",
      "            [tagged on line 2]()\n",
      "\n",
      "    * Smith\n",
      "        * page 23\n",
      "            [tagged on line 7]()\n",
      "\n",
      "* exercise\n",
      "    [tagged on line 4]()\n",
      "\n",
      "    * differential equations\n",
      "        [tagged on line 3]()\n",
      "        [tagged on line 6]()\n",
      "\n"
     ]
    }
   ],
   "source": [
    "n = max(len(key) for key in dd.keys())\n",
    "print(n, \"deep heirarchy\\n\")\n",
    "\n",
    "prev_fields = [\"\"]*n\n",
    "for key in sorted(dd.keys(), key=sort_fcn):\n",
    "    lvl = 0\n",
    "    for field in key:\n",
    "        if field != prev_fields[lvl]:\n",
    "            if lvl == len(key)-1:\n",
    "                print(\"    \"*lvl + f\"* {field}\")\n",
    "            else:\n",
    "                print(\"    \"*lvl + f\"* {field}\")\n",
    "        if lvl == len(key) - 1:\n",
    "            for val in dd[key]:\n",
    "                print(\"    \"*(lvl+1) + f\"[tagged on line {val}]()\")\n",
    "            print(\"\")\n",
    "        prev_fields[lvl] = field\n",
    "        lvl += 1"
   ]
  },
  {
   "cell_type": "markdown",
   "metadata": {},
   "source": [
    "## Linking to references"
   ]
  },
  {
   "cell_type": "code",
   "execution_count": 158,
   "metadata": {},
   "outputs": [],
   "source": [
    "references =  {\n",
    "    (\"author\", \"Felder-Rousseau\"): \"All you ever wanted to know about chemical engineering\",\n",
    "    (\"author\", \"Jones\"): \"Even more about chemical engineering\",\n",
    "    (\"author\", \"Smith\"): \"[Comic Relief](https://xkcd.com)\"\n",
    "}"
   ]
  },
  {
   "cell_type": "code",
   "execution_count": 159,
   "metadata": {},
   "outputs": [
    {
     "name": "stdout",
     "output_type": "stream",
     "text": [
      "3 deep heirarchy\n",
      "\n",
      "* author\n",
      "('author', 'Felder-Rousseau') All you ever wanted to know about chemical engineering\n",
      "    * Felder-Rousseau\n",
      "        [tagged on line 0]()\n",
      "\n",
      "('author', 'Jones') Even more about chemical engineering\n",
      "    * Jones\n",
      "        [tagged on line 1]()\n",
      "\n",
      "        * Chapter 1\n",
      "            [tagged on line 5]()\n",
      "\n",
      "        * Chapter 3\n",
      "            [tagged on line 2]()\n",
      "\n",
      "('author', 'Smith') [Comic Relief](https://xkcd.com)\n",
      "    * Smith\n",
      "        * page 23\n",
      "            [tagged on line 7]()\n",
      "\n",
      "* exercise\n",
      "    [tagged on line 4]()\n",
      "\n",
      "    * differential equations\n",
      "        [tagged on line 3]()\n",
      "        [tagged on line 6]()\n",
      "\n"
     ]
    }
   ],
   "source": [
    "n = max(len(key) for key in dd.keys())\n",
    "print(n, \"deep heirarchy\\n\")\n",
    "\n",
    "prev_fields = [\"\"]*n\n",
    "for key in sorted(dd.keys(), key=sort_fcn):\n",
    "    lvl = 0\n",
    "    for field in key:\n",
    "        if field != prev_fields[lvl]:\n",
    "            prev_fields[lvl] = field\n",
    "            search_key = tuple(prev_fields[0:lvl+1])\n",
    "            if search_key in references.keys():\n",
    "                print(search_key, references[search_key])\n",
    "            if lvl == len(key)-1:\n",
    "                print(\"    \"*lvl + f\"* {field}\")\n",
    "            else:\n",
    "                print(\"    \"*lvl + f\"* {field}\")\n",
    "        if lvl == len(key) - 1:\n",
    "            for val in dd[key]:\n",
    "                print(\"    \"*(lvl+1) + f\"[tagged on line {val}]()\")\n",
    "            print(\"\")\n",
    "        lvl += 1"
   ]
  },
  {
   "cell_type": "code",
   "execution_count": null,
   "metadata": {},
   "outputs": [],
   "source": []
  }
 ],
 "metadata": {
  "kernelspec": {
   "display_name": "Python 3",
   "language": "python",
   "name": "python3"
  },
  "language_info": {
   "codemirror_mode": {
    "name": "ipython",
    "version": 3
   },
   "file_extension": ".py",
   "mimetype": "text/x-python",
   "name": "python",
   "nbconvert_exporter": "python",
   "pygments_lexer": "ipython3",
   "version": "3.7.4"
  }
 },
 "nbformat": 4,
 "nbformat_minor": 2
}
