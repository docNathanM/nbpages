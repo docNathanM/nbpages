{
 "cells": [
  {
   "cell_type": "markdown",
   "metadata": {},
   "source": [
    "# Tagging"
   ]
  },
  {
   "cell_type": "markdown",
   "metadata": {},
   "source": [
    "## Tagging cells"
   ]
  },
  {
   "cell_type": "markdown",
   "metadata": {
    "tags": [
     "differential-equations",
     "SIR-model",
     "compartmental-model"
    ]
   },
   "source": [
    "### SIR model without vital dynamics\n",
    "\n",
    "The [Susceptible-Infectious-Recovered (SIR) model](https://en.wikipedia.org/wiki/Compartmental_models_in_epidemiology) is an example of a compartmental model that is widely used to forecast the progress of disease epidemics.\n",
    "\n",
    "\\begin{align}\n",
    "\\frac{dS}{dt} & = -\\frac{\\beta I S}{N} \\\\\n",
    "\\frac{dI}{dt} & = \\frac{\\beta I S}{N} - \\gamma I \\\\\n",
    "\\frac{dR}{dt} & = \\gamma I\n",
    "\\end{align}\n",
    "\n",
    "Where the **basic reproduction number** $R_0 = \\frac{\\beta}{\\gamma}$"
   ]
  },
  {
   "cell_type": "code",
   "execution_count": 23,
   "metadata": {
    "tags": [
     "scipy.integrate.solve_ivp",
     "differential-equations"
    ]
   },
   "outputs": [
    {
     "data": {
      "image/png": "[encoded data removed]",
      "text/plain": [
       "<Figure size 432x288 with 1 Axes>"
      ]
     },
     "metadata": {
      "needs_background": "light"
     },
     "output_type": "display_data"
    }
   ],
   "source": [
    "%matplotlib inline\n",
    "\n",
    "import numpy as np\n",
    "import matplotlib.pyplot as plt\n",
    "from scipy.integrate import solve_ivp\n",
    "\n",
    "N = 10000.0\n",
    "R0 = 2.4\n",
    "gamma = 1/8.0\n",
    "beta = gamma*R0\n",
    "\n",
    "def deriv(t, y):\n",
    "    S, I, R = y\n",
    "    dSdt = -beta*I*S/N\n",
    "    dIdt = beta*I*S/N - gamma*I\n",
    "    dRdt = gamma*I\n",
    "    return [dSdt, dIdt, dRdt]\n",
    "\n",
    "t = np.linspace(0, 180, 181)\n",
    "y0 = [N - 1.0, 1.0, 0.0]\n",
    "soln = solve_ivp(deriv, [t[0], t[-1]], y0, t_eval=t)\n",
    "\n",
    "plt.plot(soln.t, soln.y[0], label='Susceptible')\n",
    "plt.plot(soln.t, soln.y[1], label='Infectious')\n",
    "plt.plot(soln.t, soln.y[2], label='Recoverd')\n",
    "plt.legend()\n",
    "plt.xlabel('days')\n",
    "plt.grid(True)"
   ]
  },
  {
   "cell_type": "markdown",
   "metadata": {},
   "source": [
    "# Special formatting for special tags"
   ]
  },
  {
   "cell_type": "markdown",
   "metadata": {
    "tags": [
     "home-activity",
     "differential-equations"
    ]
   },
   "source": [
    "### SIR model without vital dynamics\n",
    "\n",
    "The [Susceptible-Infectious-Recovered (SIR) model](https://en.wikipedia.org/wiki/Compartmental_models_in_epidemiology) is an example of a compartmental model that is widely used to forecast the progress of disease epidemics.\n",
    "\n",
    "\\begin{align}\n",
    "\\frac{dS}{dt} & = -\\frac{\\beta I S}{N} \\\\\n",
    "\\frac{dI}{dt} & = \\frac{\\beta I S}{N} - \\gamma I \\\\\n",
    "\\frac{dR}{dt} & = \\gamma I\n",
    "\\end{align}\n",
    "\n",
    "Where the **basic reproduction number** $R_0 = \\frac{\\beta}{\\gamma}$\n",
    "\n",
    "This cell has been tagged with \"home-activity\"."
   ]
  },
  {
   "cell_type": "markdown",
   "metadata": {
    "tags": [
     "class-activity"
    ]
   },
   "source": [
    "This cell has been tagged with \"class-activity\"."
   ]
  },
  {
   "cell_type": "markdown",
   "metadata": {
    "tags": [
     "important-note"
    ]
   },
   "source": [
    "This cell has been tagged with \"important-note\"."
   ]
  },
  {
   "cell_type": "markdown",
   "metadata": {},
   "source": [
    "## Tagging solutions in code cells\n",
    "\n",
    "For teaching purposes, it is often useful to selecting remove code from cells a"
   ]
  },
  {
   "cell_type": "markdown",
   "metadata": {
    "tags": [
     "exercise"
    ]
   },
   "source": [
    "### Exercise 1.\n",
    "\n",
    "In the following cell write a function that returns the square of a number."
   ]
  },
  {
   "cell_type": "code",
   "execution_count": 6,
   "metadata": {
    "tags": [
     "exercise"
    ]
   },
   "outputs": [],
   "source": [
    "# write a function that returns the square of a number\n",
    "\n",
    "### BEGIN SOLUTION\n",
    "def sqr(x):\n",
    "    return x**2\n",
    "### END SOLUTION\n",
    "\n",
    "assert sqr(2) == 4\n",
    "assert sqr(-1) == 1\n",
    "\n",
    "### BEGIN HIDDEN TESTS\n",
    "assert sqr(3) == 9\n",
    "assert abs(sqr(3.3) - 10.89) < 0.001\n",
    "### END HIDDEN TESTS"
   ]
  }
 ],
 "metadata": {
  "celltoolbar": "Tags",
  "kernelspec": {
   "display_name": "Python 3",
   "language": "python",
   "name": "python3"
  },
  "language_info": {
   "codemirror_mode": {
    "name": "ipython",
    "version": 3
   },
   "file_extension": ".py",
   "mimetype": "text/x-python",
   "name": "python",
   "nbconvert_exporter": "python",
   "pygments_lexer": "ipython3",
   "version": "3.7.4"
  }
 },
 "nbformat": 4,
 "nbformat_minor": 2
}
