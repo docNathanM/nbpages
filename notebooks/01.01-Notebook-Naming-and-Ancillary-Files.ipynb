{
 "cells": [
  {
   "cell_type": "markdown",
   "metadata": {},
   "source": [
    "# Notebook naming and ancillary/generated files\n",
    "\n",
    "Motebooks in a repository reside in a single top-level directory named `notebooks`. \n",
    "\n",
    "The filenames begin with a prefix indicating their position in book-like organization. The prefix patterns is `nn.mm-` where \n",
    "\n",
    "* A prefix starting with two digits denotes a chapter number. Chapter 00 is used for front matter.\n",
    "* A prefix starting with an alphabetic character denotes an appendix. \n",
    "* Following a separating '.', a second pair of digits indicates a section number within a chapter or appendix. Section `00` is reserved for the start of a new chapter.\n",
    "* A hyphen separates the prefix from the rest of the filename. The standard `.ipynb` Jupyter notebook suffix is required.\n",
    "\n",
    "Any local data or figures used or created by the notebooks should be included within subdirectories located within the notebooks directory.\n",
    "\n",
    "    my-repository-title/\n",
    "    |\n",
    "    |-- notebooks/\n",
    "    |   |-- 00.00-Style-Guide.ipynb\n",
    "    |   |-- 01.00-Getting-Started.ipynb\n",
    "    |   |-- 01.01-First-Section-Title.ipynb\n",
    "    |   |-- 02.00-Second-Chapter-Title.ipynb\n",
    "    |   |-- A.00-First-Appendix.ipynb\n",
    "    |   |-- B.00-Another-Appendix.ipynb\n",
    "    |\n",
    "    |-- templates/\n",
    "    |   |-- nbpages.tpl\n",
    "    |   |-- index.md.tpl\n",
    "    |   |-- notebook_header.tpl\n",
    "    |\n",
    "    |-- nbpages.cfg\n",
    "    |\n",
    "    |-- docs/"
   ]
  },
  {
   "cell_type": "code",
   "execution_count": null,
   "metadata": {},
   "outputs": [],
   "source": []
  }
 ],
 "metadata": {
  "kernelspec": {
   "display_name": "Python 3",
   "language": "python",
   "name": "python3"
  },
  "language_info": {
   "codemirror_mode": {
    "name": "ipython",
    "version": 3
   },
   "file_extension": ".py",
   "mimetype": "text/x-python",
   "name": "python",
   "nbconvert_exporter": "python",
   "pygments_lexer": "ipython3",
   "version": "3.7.4"
  }
 },
 "nbformat": 4,
 "nbformat_minor": 2
}
