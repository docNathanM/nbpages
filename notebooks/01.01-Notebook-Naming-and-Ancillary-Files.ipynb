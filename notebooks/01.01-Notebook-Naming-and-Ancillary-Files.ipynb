{
 "cells": [
  {
   "cell_type": "markdown",
   "metadata": {},
   "source": [
    "# Notebook naming and ancillary/generated files\n",
    "\n",
    "All notebooks in a repository should reside in a single top-level directory named `notebooks`. The filenames begin with a prefix indicating their position in book-like organization. The first two digits indicate a chapter number with 00 reserved for front matter. Replacing the digits with a character indicates an appendix. Following a separating '.', a second pair of digits indicates a section with the front matter, chapter, or appendix. A hyphen separates the prefix from the rest of the filename. The standard `.ipynb` Jupyter notebook suffix is required.\n",
    "\n",
    "Any local data or figures used or created by the notebooks should be included within subdirectories located within the notebooks directory.\n",
    "\n",
    "    my-repository-title/\n",
    "    |-- notebooks/\n",
    "        |--data/\n",
    "        |--figures/\n",
    "        |--00.00-Style-Guide.ipynb\n",
    "        |--01.00-Getting-Started.ipynb\n",
    "        |--01.01-First-Section.ipynb\n",
    "        |--02.00-Second-Chapter.ipynb"
   ]
  },
  {
   "cell_type": "code",
   "execution_count": null,
   "metadata": {},
   "outputs": [],
   "source": []
  }
 ],
 "metadata": {
  "kernelspec": {
   "display_name": "Python 3",
   "language": "python",
   "name": "python3"
  },
  "language_info": {
   "codemirror_mode": {
    "name": "ipython",
    "version": 3
   },
   "file_extension": ".py",
   "mimetype": "text/x-python",
   "name": "python",
   "nbconvert_exporter": "python",
   "pygments_lexer": "ipython3",
   "version": "3.7.4"
  }
 },
 "nbformat": 4,
 "nbformat_minor": 2
}
