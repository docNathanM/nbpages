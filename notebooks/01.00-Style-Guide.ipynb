{
 "cells": [
  {
   "cell_type": "markdown",
   "metadata": {
    "pycharm": {}
   },
   "source": [
    "# Style Guide\n",
    "\n",
    "Keywords: style guide, notebook format"
   ]
  },
  {
   "cell_type": "markdown",
   "metadata": {
    "pycharm": {}
   },
   "source": [
    "Maintaining a collection of Jupyter notebooks requires attention to important details, among them are the structure and style of the individual notebooks. Maintaining a consistent notebook style enables use of tools to automate management of the collection. The purpose of this notebook is document a standard style suited to management using [nbpages]{https://jckantor.github.io/nbpages) \n",
    "\n",
    "This style guide assumes the use of software tools to manage the collection of notebooks. The software tools will perform the following tasks:\n",
    "\n",
    "* Generate a `Readme.md` file to be written to the top-level directory.\n",
    "* Generate a table of contents written to `toc.md` and `toc.ipynb` in the notebooks directory.\n",
    "* Insert and update a common header for all notebooks\n",
    "* Insert and update a navigation bar located in the second and terminal cell of each notebook.\n",
    "* A listing of all links and figures found in the notebooks.\n",
    "* A listing of stylistic `lint` encountered during the processing of the notebooks."
   ]
  },
  {
   "cell_type": "markdown",
   "metadata": {
    "pycharm": {}
   },
   "source": [
    "## Further reading"
   ]
  },
  {
   "cell_type": "markdown",
   "metadata": {
    "pycharm": {}
   },
   "source": [
    "* [Space Telescope Science Institute Style Guide](https://github.com/spacetelescope/style-guides/blob/master/guides/jupyter-notebooks.md)\n",
    "* [Jupyter notebook best practices and style guide](https://github.com/chrisvoncsefalvay/jupyter-best-practices)\n",
    "* [Dataquest: An In-Depth Style Guide for Data Science Projects](https://www.dataquest.io/blog/data-science-project-style-guide/)\n",
    "* [ESRI: Coding Standards for Jupyter Notebook](https://www.esri.com/about/newsroom/arcuser/coding-standards-for-jupyter-notebook/)"
   ]
  }
 ],
 "metadata": {
  "celltoolbar": "Tags",
  "kernelspec": {
   "display_name": "Python 3",
   "language": "python",
   "name": "python3"
  },
  "language_info": {
   "codemirror_mode": {
    "name": "ipython",
    "version": 3
   },
   "file_extension": ".py",
   "mimetype": "text/x-python",
   "name": "python",
   "nbconvert_exporter": "python",
   "pygments_lexer": "ipython3",
   "version": "3.7.4"
  }
 },
 "nbformat": 4,
 "nbformat_minor": 2
}
