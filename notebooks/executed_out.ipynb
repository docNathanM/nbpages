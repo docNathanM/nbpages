{
 "cells": [
  {
   "cell_type": "markdown",
   "metadata": {},
   "source": [
    "# Tagging"
   ]
  },
  {
   "cell_type": "markdown",
   "metadata": {},
   "source": [
    "## Tagging cells"
   ]
  },
  {
   "cell_type": "markdown",
   "metadata": {
    "tags": [
     "differential-equations",
     "SIR-model",
     "compartmental-model"
    ]
   },
   "source": [
    "### SIR model without vital dynamics\n",
    "\n",
    "The [Susceptible-Infectious-Recovered (SIR) model](https://en.wikipedia.org/wiki/Compartmental_models_in_epidemiology) is an example of a compartmental model that is widely used to forecast the progress of disease epidemics.\n",
    "\n",
    "\\begin{align}\n",
    "\\frac{dS}{dt} & = -\\frac{\\beta I S}{N} \\\\\n",
    "\\frac{dI}{dt} & = \\frac{\\beta I S}{N} - \\gamma I \\\\\n",
    "\\frac{dR}{dt} & = \\gamma I\n",
    "\\end{align}\n",
    "\n",
    "Where the **basic reproduction number** $R_0 = \\frac{\\beta}{\\gamma}$"
   ]
  },
  {
   "cell_type": "code",
   "execution_count": 1,
   "metadata": {
    "execution": {
     "iopub.execute_input": "2022-05-05T02:18:43.921112Z",
     "iopub.status.busy": "2022-05-05T02:18:43.920741Z",
     "iopub.status.idle": "2022-05-05T02:18:45.692222Z",
     "shell.execute_reply": "2022-05-05T02:18:45.691795Z"
    },
    "tags": [
     "scipy.integrate.solve_ivp",
     "differential-equations"
    ]
   },
   "outputs": [
    {
     "data": {
      "image/png": "[encoded data removed]",
      "text/plain": [
       "<Figure size 432x288 with 1 Axes>"
      ]
     },
     "metadata": {
      "needs_background": "light"
     },
     "output_type": "display_data"
    }
   ],
   "source": [
    "%matplotlib inline\n",
    "\n",
    "import numpy as np\n",
    "import matplotlib.pyplot as plt\n",
    "from scipy.integrate import solve_ivp\n",
    "\n",
    "N = 10000.0\n",
    "R0 = 2.4\n",
    "gamma = 1/8.0\n",
    "beta = gamma*R0\n",
    "\n",
    "def deriv(t, y):\n",
    "    S, I, R = y\n",
    "    dSdt = -beta*I*S/N\n",
    "    dIdt = beta*I*S/N - gamma*I\n",
    "    dRdt = gamma*I\n",
    "    return [dSdt, dIdt, dRdt]\n",
    "\n",
    "t = np.linspace(0, 180, 181)\n",
    "y0 = [N - 1.0, 1.0, 0.0]\n",
    "soln = solve_ivp(deriv, [t[0], t[-1]], y0, t_eval=t)\n",
    "\n",
    "plt.plot(soln.t, soln.y[0], label='Susceptible')\n",
    "plt.plot(soln.t, soln.y[1], label='Infectious')\n",
    "plt.plot(soln.t, soln.y[2], label='Recoverd')\n",
    "plt.legend()\n",
    "plt.xlabel('days')\n",
    "plt.grid(True)"
   ]
  },
  {
   "cell_type": "markdown",
   "metadata": {},
   "source": [
    "# Special formatting for special tags"
   ]
  },
  {
   "cell_type": "markdown",
   "metadata": {
    "tags": [
     "home-activity",
     "differential-equations"
    ]
   },
   "source": [
    "### SIR model without vital dynamics\n",
    "\n",
    "The [Susceptible-Infectious-Recovered (SIR) model](https://en.wikipedia.org/wiki/Compartmental_models_in_epidemiology) is an example of a compartmental model that is widely used to forecast the progress of disease epidemics.\n",
    "\n",
    "\\begin{align}\n",
    "\\frac{dS}{dt} & = -\\frac{\\beta I S}{N} \\\\\n",
    "\\frac{dI}{dt} & = \\frac{\\beta I S}{N} - \\gamma I \\\\\n",
    "\\frac{dR}{dt} & = \\gamma I\n",
    "\\end{align}\n",
    "\n",
    "Where the **basic reproduction number** $R_0 = \\frac{\\beta}{\\gamma}$\n",
    "\n",
    "This cell has been tagged with \"home-activity\"."
   ]
  },
  {
   "cell_type": "markdown",
   "metadata": {
    "tags": [
     "class-activity"
    ]
   },
   "source": [
    "This cell has been tagged with \"class-activity\"."
   ]
  },
  {
   "cell_type": "markdown",
   "metadata": {
    "tags": [
     "important-note"
    ]
   },
   "source": [
    "This cell has been tagged with \"important-note\"."
   ]
  },
  {
   "cell_type": "markdown",
   "metadata": {},
   "source": [
    "## Tagging solutions in code cells\n",
    "\n",
    "For teaching purposes, it is often useful to selecting remove code from cells a"
   ]
  },
  {
   "cell_type": "code",
   "execution_count": 2,
   "metadata": {
    "execution": {
     "iopub.execute_input": "2022-05-05T02:18:45.695211Z",
     "iopub.status.busy": "2022-05-05T02:18:45.695022Z",
     "iopub.status.idle": "2022-05-05T02:18:46.134430Z",
     "shell.execute_reply": "2022-05-05T02:18:46.133903Z"
    },
    "tags": [
     "exercise"
    ]
   },
   "outputs": [
    {
     "ename": "NameError",
     "evalue": "name 'sqr' is not defined",
     "output_type": "error",
     "traceback": [
      "\u001b[0;31m---------------------------------------------------------------------------\u001b[0m",
      "\u001b[0;31mNameError\u001b[0m                                 Traceback (most recent call last)",
      "Input \u001b[0;32mIn [2]\u001b[0m, in \u001b[0;36m<cell line: 5>\u001b[0;34m()\u001b[0m\n\u001b[1;32m      1\u001b[0m \u001b[38;5;66;03m# write a function that returns the square of a number\u001b[39;00m\n\u001b[0;32m----> 5\u001b[0m \u001b[38;5;28;01massert\u001b[39;00m \u001b[43msqr\u001b[49m(\u001b[38;5;241m2\u001b[39m) \u001b[38;5;241m==\u001b[39m \u001b[38;5;241m4\u001b[39m\n\u001b[1;32m      6\u001b[0m \u001b[38;5;28;01massert\u001b[39;00m sqr(\u001b[38;5;241m-\u001b[39m\u001b[38;5;241m1\u001b[39m) \u001b[38;5;241m==\u001b[39m \u001b[38;5;241m1\u001b[39m\n",
      "\u001b[0;31mNameError\u001b[0m: name 'sqr' is not defined"
     ]
    }
   ],
   "source": [
    "# write a function that returns the square of a number\n",
    "\n",
    "\n",
    "\n",
    "assert sqr(2) == 4\n",
    "assert sqr(-1) == 1\n",
    "\n"
   ]
  },
  {
   "cell_type": "code",
   "execution_count": 3,
   "metadata": {
    "execution": {
     "iopub.execute_input": "2022-05-05T02:18:46.137348Z",
     "iopub.status.busy": "2022-05-05T02:18:46.137145Z",
     "iopub.status.idle": "2022-05-05T02:18:46.150338Z",
     "shell.execute_reply": "2022-05-05T02:18:46.149823Z"
    }
   },
   "outputs": [
    {
     "ename": "NameError",
     "evalue": "name 'sqr' is not defined",
     "output_type": "error",
     "traceback": [
      "\u001b[0;31m---------------------------------------------------------------------------\u001b[0m",
      "\u001b[0;31mNameError\u001b[0m                                 Traceback (most recent call last)",
      "Input \u001b[0;32mIn [3]\u001b[0m, in \u001b[0;36m<cell line: 1>\u001b[0;34m()\u001b[0m\n\u001b[0;32m----> 1\u001b[0m \u001b[38;5;28;01massert\u001b[39;00m \u001b[43msqr\u001b[49m(\u001b[38;5;124m'\u001b[39m\u001b[38;5;124mstring\u001b[39m\u001b[38;5;124m'\u001b[39m) \u001b[38;5;241m==\u001b[39m \u001b[38;5;241m12\u001b[39m\n",
      "\u001b[0;31mNameError\u001b[0m: name 'sqr' is not defined"
     ]
    }
   ],
   "source": [
    "assert sqr('string') == 12"
   ]
  }
 ],
 "metadata": {
  "celltoolbar": "Tags",
  "kernelspec": {
   "display_name": "Python 3 (ipykernel)",
   "language": "python",
   "name": "python3"
  },
  "language_info": {
   "codemirror_mode": {
    "name": "ipython",
    "version": 3
   },
   "file_extension": ".py",
   "mimetype": "text/x-python",
   "name": "python",
   "nbconvert_exporter": "python",
   "pygments_lexer": "ipython3",
   "version": "3.9.7"
  }
 },
 "nbformat": 4,
 "nbformat_minor": 4
}
