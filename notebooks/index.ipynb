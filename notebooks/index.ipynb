{
 "cells": [
  {
   "cell_type": "markdown",
   "metadata": {},
   "source": [
    "# [nbcollection](http://jckantor.github.io/nbcollection/)\n",
    "## Keyword Index\n",
    "\n",
    "* notebook format\n",
    "    - [Style Guide](http://nbviewer.jupyter.org/github/jckantor/nbcollection/blob/master/notebooks/A.00-Style-Guide.ipynb#Style-Guide)\n",
    "* style guide\n",
    "    - [Style Guide](http://nbviewer.jupyter.org/github/jckantor/nbcollection/blob/master/notebooks/A.00-Style-Guide.ipynb#Style-Guide)"
   ]
  }
 ],
 "metadata": {},
 "nbformat": 4,
 "nbformat_minor": 2
}
