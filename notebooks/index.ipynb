{
 "cells": [
  {
   "cell_type": "markdown",
   "metadata": {},
   "source": [
    "# [nbpages](https://jckantor.github.io/nbpages)\n",
    "\n",
    "## Keyword Index\n",
    "\n",
    "* notebook format\n",
    "    - [1.0 Style Guide](http://nbviewer.jupyter.org/github/('jckantor/nbpages',)/blob/master/notebooks/01.00-Style-Guide.ipynb#1.0-Style-Guide)\n",
    "* style guide\n",
    "    - [1.0 Style Guide](http://nbviewer.jupyter.org/github/('jckantor/nbpages',)/blob/master/notebooks/01.00-Style-Guide.ipynb#1.0-Style-Guide)"
   ]
  }
 ],
 "metadata": {
  "kernelspec": {
   "display_name": "Python 3",
   "language": "python",
   "name": "python3"
  },
  "language_info": {
   "codemirror_mode": {
    "name": "ipython",
    "version": 3
   },
   "file_extension": ".py",
   "mimetype": "text/x-python",
   "name": "python",
   "nbconvert_exporter": "python",
   "pygments_lexer": "ipython3",
   "version": "3.7.4"
  }
 },
 "nbformat": 4,
 "nbformat_minor": 2
}
