{
 "cells": [
  {
   "cell_type": "markdown",
   "id": "7006c967-1e36-4a12-8261-2602b9ef7e87",
   "metadata": {},
   "source": [
    "# Reading Notebooks\n",
    "\n",
    "* https://nbformat.readthedocs.io/en/latest/api.html"
   ]
  },
  {
   "cell_type": "markdown",
   "id": "821958f8-5f82-4855-b412-8834591374b5",
   "metadata": {},
   "source": [
    "## Read a .ipynb file\n",
    "\n",
    "A notebook consists of metadata, format info, and a list of cells. Very simple."
   ]
  },
  {
   "cell_type": "code",
   "execution_count": 119,
   "id": "65a6617a-a0d8-4c35-becb-fa4b58349b2e",
   "metadata": {},
   "outputs": [
    {
     "name": "stdout",
     "output_type": "stream",
     "text": [
      "nbformat = 4.4\n"
     ]
    },
    {
     "data": {
      "text/plain": [
       "{'celltoolbar': 'Tags',\n",
       " 'kernelspec': {'display_name': 'Python 3 (ipykernel)',\n",
       "  'language': 'python',\n",
       "  'name': 'python3'},\n",
       " 'language_info': {'codemirror_mode': {'name': 'ipython', 'version': 3},\n",
       "  'file_extension': '.py',\n",
       "  'mimetype': 'text/x-python',\n",
       "  'name': 'python',\n",
       "  'nbconvert_exporter': 'python',\n",
       "  'pygments_lexer': 'ipython3',\n",
       "  'version': '3.9.7'}}"
      ]
     },
     "metadata": {},
     "output_type": "display_data"
    }
   ],
   "source": [
    "import nbformat\n",
    "from nbformat.v4.nbbase import new_markdown_cell, new_notebook, new_code_cell\n",
    "\n",
    "# read notebook file\n",
    "filename = \"02.01-Tagging.ipynb\"\n",
    "with open(filename, \"r\") as fp:\n",
    "    content = nbformat.read(fp, as_version=4)\n",
    "\n",
    "# display file metadata\n",
    "print(f\"nbformat = {content.nbformat}.{content.nbformat_minor}\")\n",
    "display(content.metadata)"
   ]
  },
  {
   "cell_type": "markdown",
   "id": "d9f48d5b-3d9c-4194-a2ea-297b51650b4f",
   "metadata": {},
   "source": [
    "## Loop over cells\n",
    "\n",
    "The heavy lifting is in the list of cells. \n",
    "\n",
    "Here's how to loop over cells. The cell metadata is editable in JupyterLab, and has a 'tags' key where you manage a list of your own tags. If you wanted to remove cells, this would be the place to tag them."
   ]
  },
  {
   "cell_type": "code",
   "execution_count": 111,
   "id": "47cc0c97-a411-4015-9558-507f21fb2ac6",
   "metadata": {},
   "outputs": [
    {
     "name": "stdout",
     "output_type": "stream",
     "text": [
      "\n",
      "Cell 0\n",
      "    metadata: {}\n",
      "   cell_type: markdown\n",
      "      keys(): dict_keys(['cell_type', 'metadata', 'source'])\n",
      "\n",
      "Cell 1\n",
      "    metadata: {}\n",
      "   cell_type: markdown\n",
      "      keys(): dict_keys(['cell_type', 'metadata', 'source'])\n",
      "\n",
      "Cell 2\n",
      "    metadata: {'tags': ['differential-equations', 'SIR-model', 'compartmental-model']}\n",
      "   cell_type: markdown\n",
      "      keys(): dict_keys(['cell_type', 'metadata', 'source'])\n",
      "\n",
      "Cell 3\n",
      "    metadata: {'tags': ['scipy.integrate.solve_ivp', 'differential-equations']}\n",
      "   cell_type: code\n",
      "      keys(): dict_keys(['cell_type', 'execution_count', 'metadata', 'outputs', 'source'])\n",
      "\n",
      "Cell 4\n",
      "    metadata: {}\n",
      "   cell_type: markdown\n",
      "      keys(): dict_keys(['cell_type', 'metadata', 'source'])\n",
      "\n",
      "Cell 5\n",
      "    metadata: {'tags': ['home-activity', 'differential-equations']}\n",
      "   cell_type: markdown\n",
      "      keys(): dict_keys(['cell_type', 'metadata', 'source'])\n",
      "\n",
      "Cell 6\n",
      "    metadata: {'tags': ['class-activity']}\n",
      "   cell_type: markdown\n",
      "      keys(): dict_keys(['cell_type', 'metadata', 'source'])\n",
      "\n",
      "Cell 7\n",
      "    metadata: {'tags': ['important-note']}\n",
      "   cell_type: markdown\n",
      "      keys(): dict_keys(['cell_type', 'metadata', 'source'])\n",
      "\n",
      "Cell 8\n",
      "    metadata: {}\n",
      "   cell_type: markdown\n",
      "      keys(): dict_keys(['cell_type', 'metadata', 'source'])\n",
      "\n",
      "Cell 9\n",
      "    metadata: {'tags': ['exercise']}\n",
      "   cell_type: markdown\n",
      "      keys(): dict_keys(['cell_type', 'metadata', 'source'])\n",
      "\n",
      "Cell 10\n",
      "    metadata: {'tags': ['exercise']}\n",
      "   cell_type: code\n",
      "      keys(): dict_keys(['cell_type', 'execution_count', 'metadata', 'outputs', 'source'])\n"
     ]
    }
   ],
   "source": [
    "for n, cell in enumerate(content.cells):\n",
    "    print(f\"\\nCell {n}\")\n",
    "    print(\"    metadata:\", cell.metadata)\n",
    "    print(\"   cell_type:\", cell.cell_type)\n",
    "    print(\"      keys():\", cell.keys())"
   ]
  },
  {
   "cell_type": "markdown",
   "id": "7eb3e820-799e-4637-b9f4-1ceb4be0f67f",
   "metadata": {},
   "source": [
    "## Remove Code Elements\n",
    "\n",
    "Remove code segments with specific tags. This uses regular expressions to identify code segments in code cells. This is actually a bit more general and would allow substitution as well."
   ]
  },
  {
   "cell_type": "code",
   "execution_count": 112,
   "id": "24dda22a-87e0-4142-95ce-9d1bac05d4f7",
   "metadata": {},
   "outputs": [
    {
     "name": "stdout",
     "output_type": "stream",
     "text": [
      " - ### BEGIN SOLUTION(.*)### END SOLUTION removed\n",
      " - ### BEGIN HIDDEN TESTS(.*)### END HIDDEN TESTS removed\n"
     ]
    }
   ],
   "source": [
    "import re\n",
    "\n",
    "SOLUTION_CODE = \"### BEGIN SOLUTION(.*)### END SOLUTION\"\n",
    "HIDDEN_TESTS = \"### BEGIN HIDDEN TESTS(.*)### END HIDDEN TESTS\"\n",
    "\n",
    "def replace_code(pattern, replacement):\n",
    "    regex = re.compile(pattern, re.DOTALL)\n",
    "    for cell in content.cells:\n",
    "        if cell.cell_type == \"code\" and regex.findall(cell.source):\n",
    "            cell.source = regex.sub(replacement, cell.source)\n",
    "            print(f\" - {pattern} removed\")\n",
    "                  \n",
    "replace_code(SOLUTION_CODE, \"\")\n",
    "replace_code(HIDDEN_TESTS, \"\")"
   ]
  },
  {
   "cell_type": "markdown",
   "id": "edea06b3-75a8-402b-b90d-a12b4647b1e3",
   "metadata": {},
   "source": [
    "## Remove cells with a specified tag\n",
    "\n",
    "Note the use of a generator. This keeps things fast, but does need an explicit `list` if you need a list of tagged cells."
   ]
  },
  {
   "cell_type": "code",
   "execution_count": 113,
   "id": "1a5205ad-5225-41cc-b421-c2d41fb635a8",
   "metadata": {},
   "outputs": [
    {
     "data": {
      "text/plain": [
       "[{'cell_type': 'markdown',\n",
       "  'metadata': {'tags': ['exercise']},\n",
       "  'source': '### Exercise 1.\\n\\nIn the following cell write a function that returns the square of a number.'}]"
      ]
     },
     "execution_count": 113,
     "metadata": {},
     "output_type": "execute_result"
    }
   ],
   "source": [
    "# a example of an iterator that returns all cells satisfying certain conditions.   \n",
    "def get_cells(tag):\n",
    "    for cell in content.cells:\n",
    "        if cell.cell_type == \"markdown\":\n",
    "            if 'tags' in cell.metadata.keys():\n",
    "                if tag in cell.metadata[\"tags\"]:\n",
    "                    yield cell\n",
    "\n",
    "tagged_cells = list(get_cells('exercise'))\n",
    "tagged_cells"
   ]
  },
  {
   "cell_type": "code",
   "execution_count": 118,
   "id": "6d447c81-06d2-4ce3-a187-eda22a16a2e6",
   "metadata": {},
   "outputs": [],
   "source": [
    "# remove all cells with a specified tag\n",
    "def remove_cells(tag):\n",
    "    tagged_cells = list(get_cells(tag))\n",
    "    if tagged_cells:\n",
    "        print(f\" - removing cells with tag {tag}\")\n",
    "        print(cells)\n",
    "        content.cells = list(filter(lambda cell: cell not in tagged_cells, content.cells))\n",
    "\n",
    "remove_cells('exercise')"
   ]
  },
  {
   "cell_type": "markdown",
   "id": "3300dc07-2f8b-4e64-9837-0403a5bcc081",
   "metadata": {},
   "source": [
    "## Write file out"
   ]
  },
  {
   "cell_type": "code",
   "execution_count": 117,
   "id": "ecbed1c8-5b44-40b6-b3dd-aaf6a752df6e",
   "metadata": {},
   "outputs": [],
   "source": [
    "with open(\"out.ipynb\", \"w\") as fp:\n",
    "    nbformat.write(content, fp)"
   ]
  },
  {
   "cell_type": "code",
   "execution_count": null,
   "id": "2b7932f3-b512-4288-b48d-151f56dcb705",
   "metadata": {},
   "outputs": [],
   "source": []
  }
 ],
 "metadata": {
  "kernelspec": {
   "display_name": "Python 3 (ipykernel)",
   "language": "python",
   "name": "python3"
  },
  "language_info": {
   "codemirror_mode": {
    "name": "ipython",
    "version": 3
   },
   "file_extension": ".py",
   "mimetype": "text/x-python",
   "name": "python",
   "nbconvert_exporter": "python",
   "pygments_lexer": "ipython3",
   "version": "3.9.7"
  }
 },
 "nbformat": 4,
 "nbformat_minor": 5
}
