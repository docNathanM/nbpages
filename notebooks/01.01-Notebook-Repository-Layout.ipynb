{
 "cells": [
  {
   "cell_type": "markdown",
   "metadata": {
    "pycharm": {}
   },
   "source": [
    "<!--NOTEBOOK_HEADER-->\n",
    "*This notebook contains material from [nbpages](http://jckantor.github.io/nbpages/)\n",
    "by Jeffrey Kantor (jeff at nd.edu); content is available [on Github](https://github.com/jckantor/nbpages/).\n",
    "The text is released under the [CC-BY-NC-ND-4.0 license](https://creativecommons.org/licenses/by-nc-nd/4.0/legalcode),\n",
    "and code is released under the [MIT license](https://opensource.org/licenses/MIT).*"
   ]
  },
  {
   "cell_type": "markdown",
   "metadata": {
    "pycharm": {}
   },
   "source": [
    "<!--NAVIGATION-->\n",
    "< [Getting Started with nbcollection](http://nbviewer.jupyter.org/github/jckantor/nbpages/blob/master/notebooks/01.00-Getting-Started-with-nbcollection.ipynb) | [Contents](toc.ipynb) | [Index](index.ipynb) | [Style Guide](http://nbviewer.jupyter.org/github/jckantor/nbpages/blob/master/notebooks/A.00-Style-Guide.ipynb) ><p><a href=\"https://colab.research.google.com/github/jckantor/nbpages/blob/master/notebooks/01.01-Notebook-Repository-Layout.ipynb\"><img align=\"left\" src=\"https://colab.research.google.com/assets/colab-badge.svg\" alt=\"Open in Colab\" title=\"Open in Google Colaboratory\"></a>"
   ]
  },
  {
   "cell_type": "markdown",
   "metadata": {
    "pycharm": {}
   },
   "source": [
    "# Notebook Repository Layout\n",
    "\n",
    "## Notebook Repository Layout\n",
    "\n",
    "    My-Amazing-Course/\n",
    "    |\n",
    "    |--- notebooks/\n",
    "    |.   |--- figures/\n",
    "    |    |--- 00.00-Preface.ipyb\n",
    "    |    |--- 01.00-My-First-Chapter.ipynb\n",
    "    |    |--- 01.01-My-First-Chapter-First-Section.ipynb\n",
    "    |    |--- A.00-My-Appendix.ipynb\n",
    "    |\n",
    "    |--- _config.yml\n",
    "    |--- .gitignore\n",
    "    |--- LICENSE-code.txt\n",
    "    |--- LICENSE-text.txt\n",
    "    |--- README.md\n",
    "    |--- templates/\n",
    "         |--- nbviewer_url.txt          # nbviewer viewer base url\n",
    "         |--- notebook_header.txt\n",
    "         |--- page_title.txt\n",
    "         |--- page_url.txt\n",
    "         |--- README.md.jinja\n",
    "         |--- repository.txt\n",
    "         |--- repository_url.txt\n"
   ]
  },
  {
   "cell_type": "code",
   "execution_count": null,
   "metadata": {
    "pycharm": {}
   },
   "outputs": [],
   "source": []
  },
  {
   "cell_type": "markdown",
   "metadata": {
    "pycharm": {}
   },
   "source": [
    "<!--NAVIGATION-->\n",
    "< [Getting Started with nbcollection](http://nbviewer.jupyter.org/github/jckantor/nbpages/blob/master/notebooks/01.00-Getting-Started-with-nbcollection.ipynb) | [Contents](toc.ipynb) | [Index](index.ipynb) | [Style Guide](http://nbviewer.jupyter.org/github/jckantor/nbpages/blob/master/notebooks/A.00-Style-Guide.ipynb) ><p><a href=\"https://colab.research.google.com/github/jckantor/nbpages/blob/master/notebooks/01.01-Notebook-Repository-Layout.ipynb\"><img align=\"left\" src=\"https://colab.research.google.com/assets/colab-badge.svg\" alt=\"Open in Colab\" title=\"Open in Google Colaboratory\"></a>"
   ]
  }
 ],
 "metadata": {
  "kernelspec": {
   "display_name": "Python 3",
   "language": "python",
   "name": "python3"
  },
  "language_info": {
   "codemirror_mode": {
    "name": "ipython",
    "version": 3
   },
   "file_extension": ".py",
   "mimetype": "text/x-python",
   "name": "python",
   "nbconvert_exporter": "python",
   "pygments_lexer": "ipython3",
   "version": "3.7.3"
  }
 },
 "nbformat": 4,
 "nbformat_minor": 2
}
