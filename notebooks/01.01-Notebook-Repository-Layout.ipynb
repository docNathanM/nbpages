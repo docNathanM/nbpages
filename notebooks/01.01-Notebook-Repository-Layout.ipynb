{
 "cells": [
  {
   "cell_type": "markdown",
   "metadata": {},
   "source": [
    "<!--NOTEBOOK_HEADER-->\n",
    "*This notebook contains material from [nbcollection](http://jckantor.github.io/nbcollection/)\n",
    "by Jeffrey Kantor (jeff at nd.edu); the content is available [on Github](https://github.com/jckantor/nbcollection/).\n",
    "The text is released under the [CC-BY-NC-ND-4.0 license](https://creativecommons.org/licenses/by-nc-nd/4.0/legalcode),\n",
    "and code is released under the [MIT license](https://opensource.org/licenses/MIT).*"
   ]
  },
  {
   "cell_type": "markdown",
   "metadata": {},
   "source": [
    "<!--NAVIGATION-->\n",
    "< [Getting Started with nbcollection](http://nbviewer.jupyter.org/github/jckantor/nbcollection/blob/master/notebooks/01.00-Getting-Started-with-nbcollection.ipynb) | [Contents](toc.ipynb) | [Index](index.ipynb) | [Style Guide](http://nbviewer.jupyter.org/github/jckantor/nbcollection/blob/master/notebooks/A.00-Style-Guide.ipynb) ><p><a href=\"https://colab.research.google.com/github/jckantor/nbcollection/blob/master/notebooks/01.01-Notebook-Repository-Layout.ipynb\"><img align=\"left\" src=\"https://colab.research.google.com/assets/colab-badge.svg\" alt=\"Open in Colab\" title=\"Open in Google Colaboratory\"></a>"
   ]
  },
  {
   "cell_type": "markdown",
   "metadata": {},
   "source": [
    "# Notebook Repository Layout"
   ]
  },
  {
   "cell_type": "code",
   "execution_count": null,
   "metadata": {},
   "outputs": [],
   "source": []
  },
  {
   "cell_type": "markdown",
   "metadata": {},
   "source": [
    "<!--NAVIGATION-->\n",
    "< [Getting Started with nbcollection](http://nbviewer.jupyter.org/github/jckantor/nbcollection/blob/master/notebooks/01.00-Getting-Started-with-nbcollection.ipynb) | [Contents](toc.ipynb) | [Index](index.ipynb) | [Style Guide](http://nbviewer.jupyter.org/github/jckantor/nbcollection/blob/master/notebooks/A.00-Style-Guide.ipynb) ><p><a href=\"https://colab.research.google.com/github/jckantor/nbcollection/blob/master/notebooks/01.01-Notebook-Repository-Layout.ipynb\"><img align=\"left\" src=\"https://colab.research.google.com/assets/colab-badge.svg\" alt=\"Open in Colab\" title=\"Open in Google Colaboratory\"></a>"
   ]
  }
 ],
 "metadata": {
  "kernelspec": {
   "display_name": "Python 3",
   "language": "python",
   "name": "python3"
  },
  "language_info": {
   "codemirror_mode": {
    "name": "ipython",
    "version": 3
   },
   "file_extension": ".py",
   "mimetype": "text/x-python",
   "name": "python",
   "nbconvert_exporter": "python",
   "pygments_lexer": "ipython3",
   "version": "3.7.3"
  }
 },
 "nbformat": 4,
 "nbformat_minor": 2
}
