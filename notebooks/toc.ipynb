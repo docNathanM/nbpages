{
 "cells": [
  {
   "cell_type": "markdown",
   "metadata": {},
   "source": [
    "# [nbcollection](http://jckantor.github.io/nbcollection/)\n",
    "\n",
    "\n",
    "## [1.0 Getting Started with nbcollection](http://nbviewer.jupyter.org/github/jckantor/nbcollection/blob/master/notebooks/01.00-Getting-Started-with-nbcollection.ipynb)\n",
    "\n",
    "### [01.1 Notebook Repository Layout](http://nbviewer.jupyter.org/github/jckantor/nbcollection/blob/master/notebooks/01.01-Notebook-Repository-Layout.ipynb)"
   ]
  }
 ],
 "metadata": {},
 "nbformat": 4,
 "nbformat_minor": 2
}
