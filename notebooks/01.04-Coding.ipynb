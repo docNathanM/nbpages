{
 "cells": [
  {
   "cell_type": "markdown",
   "metadata": {},
   "source": [
    "# Coding Style"
   ]
  },
  {
   "cell_type": "markdown",
   "metadata": {},
   "source": [
    "## Design for portability\n",
    "\n",
    "Notebooks are intended as durable and robust means of communicating with a diverse audience. To this end, special effort attemtion must be given to making it possible to run the notebooks on multiple platforms. "
   ]
  },
  {
   "cell_type": "markdown",
   "metadata": {},
   "source": [
    "## Installations and imports\n",
    "\n",
    "It is good practice to include all necessary installations and imports in the first executable cell of a notebook, and may be included in a special section entitled **Installations and imports**.\n",
    "\n",
    "To the extent possible, the installation and import cells should be written to run cross-platform without raising exceptions. Code should be written assumming the standard Python libraries, including Matplotlib, Numpy, Pandas, and Scipy, are present. Any needed installations should included in the first code cell of the notebook and written for cross-platform use. For example, the following code installs `glpk` for Google Colaboratory.\n",
    "\n",
    "    import sys\n",
    "    if 'google.colab' in sys.modules:\n",
    "        !pip install pyomo\n",
    "        !pin install glpk\n",
    "        \n",
    "A try/except may be used to avoid repeated installation attempts on a user laptop:\n",
    "\n",
    "    try:\n",
    "        import glpk\n",
    "    except:\n",
    "        !pip install glpk\n",
    "        import glpk"
   ]
  },
  {
   "cell_type": "code",
   "execution_count": null,
   "metadata": {},
   "outputs": [],
   "source": []
  }
 ],
 "metadata": {
  "kernelspec": {
   "display_name": "Python 3",
   "language": "python",
   "name": "python3"
  },
  "language_info": {
   "codemirror_mode": {
    "name": "ipython",
    "version": 3
   },
   "file_extension": ".py",
   "mimetype": "text/x-python",
   "name": "python",
   "nbconvert_exporter": "python",
   "pygments_lexer": "ipython3",
   "version": "3.7.4"
  }
 },
 "nbformat": 4,
 "nbformat_minor": 2
}
