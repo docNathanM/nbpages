{
 "cells": [
  {
   "cell_type": "markdown",
   "metadata": {
    "pycharm": {}
   },
   "source": [
    "<!--NOTEBOOK_HEADER-->\n",
    "*This notebook contains material from [nbcollection](http://jckantor.github.io/nbcollection/)\n",
    "by Jeffrey Kantor (jeff at nd.edu); the content is available [on Github](https://github.com/jckantor/nbcollection/).\n",
    "The text is released under the [CC-BY-NC-ND-4.0 license](https://creativecommons.org/licenses/by-nc-nd/4.0/legalcode),\n",
    "and code is released under the [MIT license](https://opensource.org/licenses/MIT).*"
   ]
  },
  {
   "cell_type": "markdown",
   "metadata": {
    "pycharm": {}
   },
   "source": [
    "<!--NAVIGATION-->\n",
    "| [Contents](toc.ipynb) | [Index](index.ipynb) | [Notebook Repository Layout](http://nbviewer.jupyter.org/github/jckantor/nbcollection/blob/master/notebooks/01.01-Notebook-Repository-Layout.ipynb) ><p><a href=\"https://colab.research.google.com/github/jckantor/nbcollection/blob/master/notebooks/01.00-Getting-Started-with-nbcollection.ipynb\"><img align=\"left\" src=\"https://colab.research.google.com/assets/colab-badge.svg\" alt=\"Open in Colab\" title=\"Open in Google Colaboratory\"></a>"
   ]
  },
  {
   "cell_type": "markdown",
   "metadata": {
    "pycharm": {}
   },
   "source": [
    "# Getting Started with nbcollection"
   ]
  },
  {
   "cell_type": "markdown",
   "metadata": {
    "pycharm": {}
   },
   "source": [
    "<!--NAVIGATION-->\n",
    "| [Contents](toc.ipynb) | [Index](index.ipynb) | [Notebook Repository Layout](http://nbviewer.jupyter.org/github/jckantor/nbcollection/blob/master/notebooks/01.01-Notebook-Repository-Layout.ipynb) ><p><a href=\"https://colab.research.google.com/github/jckantor/nbcollection/blob/master/notebooks/01.00-Getting-Started-with-nbcollection.ipynb\"><img align=\"left\" src=\"https://colab.research.google.com/assets/colab-badge.svg\" alt=\"Open in Colab\" title=\"Open in Google Colaboratory\"></a>"
   ]
  }
 ],
 "metadata": {
  "kernelspec": {
   "display_name": "Python 3",
   "language": "python",
   "name": "python3"
  },
  "language_info": {
   "codemirror_mode": {
    "name": "ipython",
    "version": 3
   },
   "file_extension": ".py",
   "mimetype": "text/x-python",
   "name": "python",
   "nbconvert_exporter": "python",
   "pygments_lexer": "ipython3",
   "version": "3.7.3"
  }
 },
 "nbformat": 4,
 "nbformat_minor": 2
}
