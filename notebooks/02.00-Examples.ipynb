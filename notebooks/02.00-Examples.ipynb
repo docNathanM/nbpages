{
 "cells": [
  {
   "cell_type": "markdown",
   "metadata": {
    "tags": [
     "hi::world"
    ]
   },
   "source": [
    "# Examples"
   ]
  },
  {
   "cell_type": "markdown",
   "metadata": {},
   "source": [
    "## Repositories using nbpages\n",
    "\n",
    "* [CBE 20255 Introduction to Chemical Engineering Analysis](http://jckantor.github.io/CBE20255/)\n",
    "* [CBE 30338 Chemical Process Control](http://jckantor.github.io/CBE30338/)\n",
    "* [CBE 40455 Process Operations](http://jckantor.github.io/CBE40455/)\n",
    "* [ND Pyomo Cookbook](https://jckantor.github.io/ND-Pyomo-Cookbook/)\n",
    "* [nbpages](https://jckantor.github.io/nbpages/)\n",
    "* [Controlling Natural Watersheds](https://jckantor.github.io/Controlling-Natural-Watersheds/)\n"
   ]
  },
  {
   "cell_type": "markdown",
   "metadata": {},
   "source": [
    "## Tagging solutions in code cells"
   ]
  },
  {
   "cell_type": "markdown",
   "metadata": {
    "tags": [
     "exercise"
    ]
   },
   "source": []
  },
  {
   "cell_type": "code",
   "execution_count": 4,
   "metadata": {},
   "outputs": [],
   "source": [
    "# write a function that returns the square of a number\n",
    "\n",
    "### BEGIN SOLUTION\n",
    "def sqr(x):\n",
    "    return x**2\n",
    "### END SOLUTION\n",
    "\n",
    "assert sqr(2) == 4\n",
    "assert sqr(-1) == 1"
   ]
  },
  {
   "cell_type": "code",
   "execution_count": null,
   "metadata": {},
   "outputs": [],
   "source": []
  }
 ],
 "metadata": {
  "celltoolbar": "Tags",
  "kernelspec": {
   "display_name": "Python 3",
   "language": "python",
   "name": "python3"
  },
  "language_info": {
   "codemirror_mode": {
    "name": "ipython",
    "version": 3
   },
   "file_extension": ".py",
   "mimetype": "text/x-python",
   "name": "python",
   "nbconvert_exporter": "python",
   "pygments_lexer": "ipython3",
   "version": "3.7.4"
  }
 },
 "nbformat": 4,
 "nbformat_minor": 2
}
