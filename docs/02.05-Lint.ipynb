{
 "cells": [
  {
   "cell_type": "markdown",
   "metadata": {},
   "source": [
    "<!--NOTEBOOK_HEADER-->\n",
    "*This notebook contains material from [nbpages](https://jckantor.github.io/nbpages) by Jeffrey Kantor (jeff at nd.edu). The text is released under the\n",
    "[CC-BY-NC-ND-4.0 license](https://creativecommons.org/licenses/by-nc-nd/4.0/legalcode).\n",
    "The code is released under the [MIT license](https://opensource.org/licenses/MIT).*"
   ]
  },
  {
   "cell_type": "markdown",
   "metadata": {},
   "source": [
    "<!--NAVIGATION-->\n",
    "< [2.4 Working with Data and Figures](https://jckantor.github.io/nbpages/02.04-Working-with-Data-and-Figures.html) | [Contents](toc.html) | [Tag Index](tag_index.html) | ><p><a href=\"https://colab.research.google.com/github/jckantor/nbpages/blob/master/docs/02.05-Lint.ipynb\"> <img align=\"left\" src=\"https://colab.research.google.com/assets/colab-badge.svg\" alt=\"Open in Colab\" title=\"Open in Google Colaboratory\"></a><p><a href=\"https://jckantor.github.io/nbpages/02.05-Lint.ipynb\"> <img align=\"left\" src=\"https://img.shields.io/badge/Github-Download-blue.svg\" alt=\"Download\" title=\"Download Notebook\"></a>"
   ]
  },
  {
   "cell_type": "markdown",
   "metadata": {
    "nbpages": {
     "level": 1,
     "link": "[2.5 Lint](https://jckantor.github.io/nbpages/02.05-Lint.html#2.5-Lint)",
     "section": "2.5 Lint"
    }
   },
   "source": [
    "# 2.5 Lint\n",
    "\n",
    "This notebook includes examples of 'lint' that is detected and reported by \n",
    "\n",
    "    nbpages --lint"
   ]
  },
  {
   "cell_type": "markdown",
   "metadata": {
    "nbpages": {
     "level": 2,
     "link": "[2.5.1 Orphan headers](https://jckantor.github.io/nbpages/02.05-Lint.html#2.5.1-Orphan-headers)",
     "section": "2.5.1 Orphan headers"
    }
   },
   "source": [
    "## 2.5.1 Orphan headers\n",
    "\n",
    "`nbpages` looks for headers in the first line of a markdown cell. Headers that don't appear in the first line are called 'orphans' and reported as lint.  Here's an example of an orphan header:\n",
    "\n",
    "### This is an orphan header"
   ]
  },
  {
   "cell_type": "markdown",
   "metadata": {
    "nbpages": {
     "level": 2,
     "link": "[2.5.2 Embedded HTML](https://jckantor.github.io/nbpages/02.05-Lint.html#2.5.2-Embedded-HTML)",
     "section": "2.5.2 Embedded HTML"
    }
   },
   "source": [
    "## 2.5.2 Embedded HTML\n",
    "\n",
    "HTML image and anchor tags should be replaced by the equivalent Markdown tags. The lint command reports a list of these HTML tags.\n",
    "\n",
    "### Embedded HTML anchors\n",
    "<a href=\"https://jckantor.github.io/nbpages/\">nbpages</a>\n",
    "\n",
    "### Embedded HTML images\n",
    "<img src=\"figures/Stock_Data.png\">\n"
   ]
  },
  {
   "cell_type": "markdown",
   "metadata": {
    "nbpages": {
     "level": 2,
     "link": "[2.5.3 Output errors](https://jckantor.github.io/nbpages/02.05-Lint.html#2.5.3-Output-errors)",
     "section": "2.5.3 Output errors"
    }
   },
   "source": [
    "## 2.5.3 Output errors"
   ]
  },
  {
   "cell_type": "code",
   "execution_count": 2,
   "metadata": {
    "nbpages": {
     "level": 2,
     "link": "[2.5.3 Output errors](https://jckantor.github.io/nbpages/02.05-Lint.html#2.5.3-Output-errors)",
     "section": "2.5.3 Output errors"
    }
   },
   "outputs": [
    {
     "ename": "ZeroDivisionError",
     "evalue": "float division by zero",
     "output_type": "error",
     "traceback": [
      "\u001b[0;31m---------------------------------------------------------------------------\u001b[0m",
      "\u001b[0;31mZeroDivisionError\u001b[0m                         Traceback (most recent call last)",
      "\u001b[0;32m<ipython-input-2-a82aa784e791>\u001b[0m in \u001b[0;36m<module>\u001b[0;34m\u001b[0m\n\u001b[1;32m      1\u001b[0m \u001b[0;31m# deliberate python error\u001b[0m\u001b[0;34m\u001b[0m\u001b[0;34m\u001b[0m\u001b[0;34m\u001b[0m\u001b[0m\n\u001b[1;32m      2\u001b[0m \u001b[0;34m\u001b[0m\u001b[0m\n\u001b[0;32m----> 3\u001b[0;31m \u001b[0ma\u001b[0m \u001b[0;34m=\u001b[0m \u001b[0;36m1.0\u001b[0m\u001b[0;34m/\u001b[0m\u001b[0;36m0.0\u001b[0m\u001b[0;34m\u001b[0m\u001b[0;34m\u001b[0m\u001b[0m\n\u001b[0m",
      "\u001b[0;31mZeroDivisionError\u001b[0m: float division by zero"
     ]
    }
   ],
   "source": [
    "# deliberate python error\n",
    "\n",
    "a = 1.0/0.0"
   ]
  },
  {
   "cell_type": "code",
   "execution_count": null,
   "metadata": {
    "nbpages": {
     "level": 2,
     "link": "[2.5.3 Output errors](https://jckantor.github.io/nbpages/02.05-Lint.html#2.5.3-Output-errors)",
     "section": "2.5.3 Output errors"
    }
   },
   "outputs": [],
   "source": []
  },
  {
   "cell_type": "markdown",
   "metadata": {},
   "source": [
    "<!--NAVIGATION-->\n",
    "< [2.4 Working with Data and Figures](https://jckantor.github.io/nbpages/02.04-Working-with-Data-and-Figures.html) | [Contents](toc.html) | [Tag Index](tag_index.html) | ><p><a href=\"https://colab.research.google.com/github/jckantor/nbpages/blob/master/docs/02.05-Lint.ipynb\"> <img align=\"left\" src=\"https://colab.research.google.com/assets/colab-badge.svg\" alt=\"Open in Colab\" title=\"Open in Google Colaboratory\"></a><p><a href=\"https://jckantor.github.io/nbpages/02.05-Lint.ipynb\"> <img align=\"left\" src=\"https://img.shields.io/badge/Github-Download-blue.svg\" alt=\"Download\" title=\"Download Notebook\"></a>"
   ]
  }
 ],
 "metadata": {
  "kernelspec": {
   "display_name": "Python 3",
   "language": "python",
   "name": "python3"
  },
  "language_info": {
   "codemirror_mode": {
    "name": "ipython",
    "version": 3
   },
   "file_extension": ".py",
   "mimetype": "text/x-python",
   "name": "python",
   "nbconvert_exporter": "python",
   "pygments_lexer": "ipython3",
   "version": "3.7.4"
  }
 },
 "nbformat": 4,
 "nbformat_minor": 4
}
