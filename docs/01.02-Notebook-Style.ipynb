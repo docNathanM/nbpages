{
 "cells": [
  {
   "cell_type": "markdown",
   "metadata": {},
   "source": [
    "<!--NOTEBOOK_HEADER-->\n",
    "# [nbpages](https://jckantor.github.io/nbpages)\n",
    "\n",
    "*This notebook contains material from [nbpages](https://jckantor.github.io/nbpages) by Jeffrey Kantor (jeff at nd.edu). The text is released under the\n",
    "[CC-BY-NC-ND-4.0 license](https://creativecommons.org/licenses/by-nc-nd/4.0/legalcode).\n",
    "The code is released under the [MIT license](https://opensource.org/licenses/MIT).*"
   ]
  },
  {
   "cell_type": "markdown",
   "metadata": {},
   "source": [
    "<!--NAVIGATION-->\n",
    "< [1.1 Notebook naming and ancillary/generated files](https://jckantor.github.io/nbpages/01.01-Notebook-Naming-and-Ancillary-Files.html) | [Contents](toc.html) | [Tag Index](tag_index.html) | [1.3 External Files](https://jckantor.github.io/nbpages/01.03-External-Files.html)<p><a href=\"https://colab.research.google.com/github/jckantor/nbpages/blob/master/docs/01.02-Notebook-Style.ipynb\"> <img align=\"left\" src=\"https://colab.research.google.com/assets/colab-badge.svg\" alt=\"Open in Colab\" title=\"Open in Google Colaboratory\"></a><p><a href=\"https://jckantor.github.io/nbpages/01.02-Notebook-Style.ipynb\"> <img align=\"left\" src=\"https://img.shields.io/badge/Github-Download-blue.svg\" alt=\"Download\" title=\"Download Notebook\"></a>"
   ]
  },
  {
   "cell_type": "markdown",
   "metadata": {
    "nbpages": {
     "level": 1,
     "link": "[1.2 Notebook Style](https://jckantor.github.io/nbpages/01.02-Notebook-Style.html#1.2-Notebook-Style)",
     "section": "1.2 Notebook Style"
    }
   },
   "source": [
    "# 1.2 Notebook Style"
   ]
  },
  {
   "cell_type": "markdown",
   "metadata": {
    "nbpages": {
     "level": 2,
     "link": "[1.2.1 Headings and subheadings](https://jckantor.github.io/nbpages/01.02-Notebook-Style.html#1.2.1-Headings-and-subheadings)",
     "section": "1.2.1 Headings and subheadings"
    }
   },
   "source": [
    "## 1.2.1 Headings and subheadings"
   ]
  },
  {
   "cell_type": "markdown",
   "metadata": {
    "nbpages": {
     "level": 3,
     "link": "[1.2.1.1 Title](https://jckantor.github.io/nbpages/01.02-Notebook-Style.html#1.2.1.1-Title)",
     "section": "1.2.1.1 Title"
    }
   },
   "source": [
    "### 1.2.1.1 Title\n",
    "\n",
    "Each notebook begins with a markdown level header containing the title of the corresponding chapter or section. This should be capitalized following the Chicago Manual of Style. The hashtag `#` appears as the first line in the cell, and there is exactly one level 1 header per notebook. The title cell may include a brief summary of the notebook contents."
   ]
  },
  {
   "cell_type": "markdown",
   "metadata": {
    "nbpages": {
     "level": 3,
     "link": "[1.2.1.2 Subheadings](https://jckantor.github.io/nbpages/01.02-Notebook-Style.html#1.2.1.2-Subheadings)",
     "section": "1.2.1.2 Subheadings"
    }
   },
   "source": [
    "### 1.2.1.2 Subheadings\n",
    "\n",
    "A notebook will typically consist of multiple sections.  The sections are organized heirarchically as markdown headings. Following the document title, the highest level heading begins as markdown level 2 (i.e., `##`). The heirarchy is strict meaning that the next level in the heirarchy, `###`, and must appear before the first heading of the next higher level. This, for example, is an allowable heirarchy:\n",
    "\n",
    "    # Notebook Title\n",
    "    ## First section\n",
    "    ### First subsection\n",
    "    #### First sub-subsection\n",
    "    #### Second sub-subsection\n",
    "    ### Second subsection\n",
    "    ## Second section\n",
    "    ### Another subsection\n",
    "    \n",
    "The following example is not compliant because it skips from `##` to `####` without an intervening `###`:\n",
    "\n",
    "    # Notebook Title\n",
    "    ## First section\n",
    "    #### First sub-subsection\n",
    "    #### Second sub-subsection\n",
    "    ### Second subsection\n",
    "    ## Second section\n",
    "    ### Another subsection\n",
    "    \n",
    "The following guidelines apply to headings and subheadings:\n",
    "    \n",
    "* Following the Chicago Manual of Style, only the first word in headings and subheadings are capitalized.\n",
    "* Each heading or subheading appears as the first line in a markdown cell.\n",
    "* Titles, headings, and subheadings should be unnumbered."
   ]
  },
  {
   "cell_type": "markdown",
   "metadata": {
    "nbpages": {
     "level": 3,
     "link": "[1.2.1.3 Orphan headings](https://jckantor.github.io/nbpages/01.02-Notebook-Style.html#1.2.1.3-Orphan-headings)",
     "section": "1.2.1.3 Orphan headings"
    }
   },
   "source": [
    "### 1.2.1.3 Orphan headings\n",
    "\n",
    "Orphan headings are any heading not adhering to this style guide. Headings that are not the first line in a cell, or inconsistent with a string heirarchy are reported as 'lint'."
   ]
  },
  {
   "cell_type": "markdown",
   "metadata": {
    "nbpages": {
     "level": 3,
     "link": "[1.2.1.4 Keywords](https://jckantor.github.io/nbpages/01.02-Notebook-Style.html#1.2.1.4-Keywords)",
     "section": "1.2.1.4 Keywords"
    }
   },
   "source": [
    "### 1.2.1.4 Keywords\n",
    "\n",
    "Keywords can be included in the level 1 headers designating a title. The keywords are specified in a new line beginning with `Keywords:` (case in-sensitive) followed by a comma separated list of keyword phrases. Keywords are used to construct an index for the notebook collection."
   ]
  },
  {
   "cell_type": "markdown",
   "metadata": {
    "nbpages": {
     "level": 2,
     "link": "[1.2.2 Markdown](https://jckantor.github.io/nbpages/01.02-Notebook-Style.html#1.2.2-Markdown)",
     "section": "1.2.2 Markdown"
    }
   },
   "source": [
    "## 1.2.2 Markdown\n",
    "\n",
    "Plain github-flavored markdown should be used whereever possible. Avoid use of non-markdown constructs, such as html tags.\n",
    "\n",
    "* Any references should be collected under a separate heading entitled References, and formatted using the Chicago Manual of Style.\n",
    "* Additional sections entitled Exercises, Additional resources, Further reading may be included in the notebooks. Each exercise should be given a separate subsection to be included in the table of contents."
   ]
  },
  {
   "cell_type": "markdown",
   "metadata": {
    "nbpages": {
     "level": 2,
     "link": "[1.2.3 Mathematics](https://jckantor.github.io/nbpages/01.02-Notebook-Style.html#1.2.3-Mathematics)",
     "section": "1.2.3 Mathematics"
    }
   },
   "source": [
    "## 1.2.3 Mathematics\n",
    "\n",
    "Mathematics should be typeset using the LaTeX conventions. \n",
    "\n",
    "\\begin{align*}\n",
    "\\frac{\\partial T}{\\partial t} & = \\nabla^2T\n",
    "\\end{align*}"
   ]
  },
  {
   "cell_type": "code",
   "execution_count": null,
   "metadata": {
    "nbpages": {
     "level": 2,
     "link": "[1.2.3 Mathematics](https://jckantor.github.io/nbpages/01.02-Notebook-Style.html#1.2.3-Mathematics)",
     "section": "1.2.3 Mathematics"
    }
   },
   "outputs": [],
   "source": []
  },
  {
   "cell_type": "markdown",
   "metadata": {},
   "source": [
    "<!--NAVIGATION-->\n",
    "< [1.1 Notebook naming and ancillary/generated files](https://jckantor.github.io/nbpages/01.01-Notebook-Naming-and-Ancillary-Files.html) | [Contents](toc.html) | [Tag Index](tag_index.html) | [1.3 External Files](https://jckantor.github.io/nbpages/01.03-External-Files.html)<p><a href=\"https://colab.research.google.com/github/jckantor/nbpages/blob/master/docs/01.02-Notebook-Style.ipynb\"> <img align=\"left\" src=\"https://colab.research.google.com/assets/colab-badge.svg\" alt=\"Open in Colab\" title=\"Open in Google Colaboratory\"></a><p><a href=\"https://jckantor.github.io/nbpages/01.02-Notebook-Style.ipynb\"> <img align=\"left\" src=\"https://img.shields.io/badge/Github-Download-blue.svg\" alt=\"Download\" title=\"Download Notebook\"></a>"
   ]
  }
 ],
 "metadata": {
  "kernelspec": {
   "display_name": "Python 3",
   "language": "python",
   "name": "python3"
  },
  "language_info": {
   "codemirror_mode": {
    "name": "ipython",
    "version": 3
   },
   "file_extension": ".py",
   "mimetype": "text/x-python",
   "name": "python",
   "nbconvert_exporter": "python",
   "pygments_lexer": "ipython3",
   "version": "3.7.4"
  }
 },
 "nbformat": 4,
 "nbformat_minor": 2
}
