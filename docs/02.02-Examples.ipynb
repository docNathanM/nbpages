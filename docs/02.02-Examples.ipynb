{
 "cells": [
  {
   "cell_type": "markdown",
   "metadata": {},
   "source": [
    "<!--NOTEBOOK_HEADER-->\n",
    "*This notebook contains material from [nbpages](https://jckantor.github.io/nbpages);\n",
    "content is available [on Github](https://github.com/jckantor/nbpages.git).*\n"
   ]
  },
  {
   "cell_type": "markdown",
   "metadata": {},
   "source": [
    "<!--NAVIGATION-->\n",
    "< [2.1 Tagging](https://jckantor.github.io/nbpages/02.01-Tagging.html) | [Contents](toc.html) | [Tag Index](tag_index.html) | [2.3 Heirarchical Tagging](https://jckantor.github.io/nbpages/02.03-Heirarchical-Tagging.html)<p><a href=\"https://colab.research.google.com/github/jckantor/nbpages/blob/master/docs/02.02-Examples.ipynb\"> <img align=\"left\" src=\"https://colab.research.google.com/assets/colab-badge.svg\" alt=\"Open in Colab\" title=\"Open in Google Colaboratory\"></a><p><a href=\"https://jckantor.github.io/nbpages/02.02-Examples.ipynb\"> <img align=\"left\" src=\"https://img.shields.io/badge/Github-Download-blue.svg\" alt=\"Download\" title=\"Download Notebook\"></a>"
   ]
  },
  {
   "cell_type": "markdown",
   "metadata": {
    "nbpages": {
     "level": 1,
     "link": "[2.2 Examples](https://jckantor.github.io/nbpages/02.02-Examples.html#2.2-Examples)",
     "section": "2.2 Examples"
    }
   },
   "source": [
    "# 2.2 Examples"
   ]
  },
  {
   "cell_type": "markdown",
   "metadata": {
    "nbpages": {
     "level": 2,
     "link": "[2.2.1 Repositories using nbpages](https://jckantor.github.io/nbpages/02.02-Examples.html#2.2.1-Repositories-using-nbpages)",
     "section": "2.2.1 Repositories using nbpages"
    }
   },
   "source": [
    "## 2.2.1 Repositories using nbpages\n",
    "\n",
    "* [CBE 20255 Introduction to Chemical Engineering Analysis](http://jckantor.github.io/CBE20255/)\n",
    "* [CBE 30338 Chemical Process Control](http://jckantor.github.io/CBE30338/)\n",
    "* [CBE 40455 Process Operations](http://jckantor.github.io/CBE40455/)\n",
    "* [ND Pyomo Cookbook](https://jckantor.github.io/ND-Pyomo-Cookbook/)\n",
    "* [nbpages](https://jckantor.github.io/nbpages/)\n",
    "* [Controlling Natural Watersheds](https://jckantor.github.io/Controlling-Natural-Watersheds/)\n"
   ]
  },
  {
   "cell_type": "code",
   "execution_count": null,
   "metadata": {
    "nbpages": {
     "level": 2,
     "link": "[2.2.1 Repositories using nbpages](https://jckantor.github.io/nbpages/02.02-Examples.html#2.2.1-Repositories-using-nbpages)",
     "section": "2.2.1 Repositories using nbpages"
    }
   },
   "outputs": [],
   "source": []
  },
  {
   "cell_type": "markdown",
   "metadata": {},
   "source": [
    "<!--NAVIGATION-->\n",
    "< [2.1 Tagging](https://jckantor.github.io/nbpages/02.01-Tagging.html) | [Contents](toc.html) | [Tag Index](tag_index.html) | [2.3 Heirarchical Tagging](https://jckantor.github.io/nbpages/02.03-Heirarchical-Tagging.html)<p><a href=\"https://colab.research.google.com/github/jckantor/nbpages/blob/master/docs/02.02-Examples.ipynb\"> <img align=\"left\" src=\"https://colab.research.google.com/assets/colab-badge.svg\" alt=\"Open in Colab\" title=\"Open in Google Colaboratory\"></a><p><a href=\"https://jckantor.github.io/nbpages/02.02-Examples.ipynb\"> <img align=\"left\" src=\"https://img.shields.io/badge/Github-Download-blue.svg\" alt=\"Download\" title=\"Download Notebook\"></a>"
   ]
  }
 ],
 "metadata": {
  "kernelspec": {
   "display_name": "Python 3",
   "language": "python",
   "name": "python3"
  },
  "language_info": {
   "codemirror_mode": {
    "name": "ipython",
    "version": 3
   },
   "file_extension": ".py",
   "mimetype": "text/x-python",
   "name": "python",
   "nbconvert_exporter": "python",
   "pygments_lexer": "ipython3",
   "version": "3.7.4"
  }
 },
 "nbformat": 4,
 "nbformat_minor": 2
}
