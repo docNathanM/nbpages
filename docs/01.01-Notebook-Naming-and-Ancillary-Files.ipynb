{
 "cells": [
  {
   "cell_type": "markdown",
   "metadata": {},
   "source": [
    "<!--NOTEBOOK_HEADER-->\n",
    "# [nbpages](https://jckantor.github.io/nbpages)\n",
    "\n",
    "*This notebook contains material from [nbpages](https://jckantor.github.io/nbpages) by Jeffrey Kantor (jeff at nd.edu). The text is released under the\n",
    "[CC-BY-NC-ND-4.0 license](https://creativecommons.org/licenses/by-nc-nd/4.0/legalcode).\n",
    "The code is released under the [MIT license](https://opensource.org/licenses/MIT).*"
   ]
  },
  {
   "cell_type": "markdown",
   "metadata": {},
   "source": [
    "<!--NAVIGATION-->\n",
    "< [1.0 Style Guide](https://jckantor.github.io/nbpages/01.00-Style-Guide.html) | [Contents](toc.html) | [Tag Index](tag_index.html) | [1.2 Notebook Style](https://jckantor.github.io/nbpages/01.02-Notebook-Style.html)<p><a href=\"https://colab.research.google.com/github/jckantor/nbpages/blob/master/docs/01.01-Notebook-Naming-and-Ancillary-Files.ipynb\"> <img align=\"left\" src=\"https://colab.research.google.com/assets/colab-badge.svg\" alt=\"Open in Colab\" title=\"Open in Google Colaboratory\"></a><p><a href=\"https://jckantor.github.io/nbpages/01.01-Notebook-Naming-and-Ancillary-Files.ipynb\"> <img align=\"left\" src=\"https://img.shields.io/badge/Github-Download-blue.svg\" alt=\"Download\" title=\"Download Notebook\"></a>"
   ]
  },
  {
   "cell_type": "markdown",
   "metadata": {
    "nbpages": {
     "level": 1,
     "link": "[1.1 Notebook naming and ancillary/generated files](https://jckantor.github.io/nbpages/01.01-Notebook-Naming-and-Ancillary-Files.html#1.1-Notebook-naming-and-ancillary/generated-files)",
     "section": "1.1 Notebook naming and ancillary/generated files"
    }
   },
   "source": [
    "# 1.1 Notebook naming and ancillary/generated files\n",
    "\n",
    "Motebooks in a repository reside in a single top-level directory named `notebooks`. \n",
    "\n",
    "The filenames begin with a prefix indicating their position in book-like organization. The prefix patterns is `nn.mm-` where \n",
    "\n",
    "* A prefix starting with two digits denotes a chapter number. Chapter 00 is used for front matter.\n",
    "* A prefix starting with an alphabetic character denotes an appendix. \n",
    "* Following a separating '.', a second pair of digits indicates a section number within a chapter or appendix. Section `00` is reserved for the start of a new chapter.\n",
    "* A hyphen separates the prefix from the rest of the filename. The standard `.ipynb` Jupyter notebook suffix is required.\n",
    "\n",
    "Any local data or figures used or created by the notebooks should be included within subdirectories located within the notebooks directory.\n",
    "\n",
    "    my-repository-title/\n",
    "    |\n",
    "    |-- notebooks/\n",
    "    |   |-- 00.00-Style-Guide.ipynb\n",
    "    |   |-- 01.00-Getting-Started.ipynb\n",
    "    |   |-- 01.01-First-Section-Title.ipynb\n",
    "    |   |-- 02.00-Second-Chapter-Title.ipynb\n",
    "    |   |-- A.00-First-Appendix.ipynb\n",
    "    |   |-- B.00-Another-Appendix.ipynb\n",
    "    |\n",
    "    |-- templates/\n",
    "    |   |-- nbpages.tpl\n",
    "    |   |-- index.md.tpl\n",
    "    |   |-- notebook_header.tpl\n",
    "    |\n",
    "    |-- nbpages.cfg\n",
    "    |\n",
    "    |-- docs/"
   ]
  },
  {
   "cell_type": "code",
   "execution_count": null,
   "metadata": {
    "nbpages": {
     "level": 1,
     "link": "[1.1 Notebook naming and ancillary/generated files](https://jckantor.github.io/nbpages/01.01-Notebook-Naming-and-Ancillary-Files.html#1.1-Notebook-naming-and-ancillary/generated-files)",
     "section": "1.1 Notebook naming and ancillary/generated files"
    }
   },
   "outputs": [],
   "source": []
  },
  {
   "cell_type": "markdown",
   "metadata": {},
   "source": [
    "<!--NAVIGATION-->\n",
    "< [1.0 Style Guide](https://jckantor.github.io/nbpages/01.00-Style-Guide.html) | [Contents](toc.html) | [Tag Index](tag_index.html) | [1.2 Notebook Style](https://jckantor.github.io/nbpages/01.02-Notebook-Style.html)<p><a href=\"https://colab.research.google.com/github/jckantor/nbpages/blob/master/docs/01.01-Notebook-Naming-and-Ancillary-Files.ipynb\"> <img align=\"left\" src=\"https://colab.research.google.com/assets/colab-badge.svg\" alt=\"Open in Colab\" title=\"Open in Google Colaboratory\"></a><p><a href=\"https://jckantor.github.io/nbpages/01.01-Notebook-Naming-and-Ancillary-Files.ipynb\"> <img align=\"left\" src=\"https://img.shields.io/badge/Github-Download-blue.svg\" alt=\"Download\" title=\"Download Notebook\"></a>"
   ]
  }
 ],
 "metadata": {
  "kernelspec": {
   "display_name": "Python 3",
   "language": "python",
   "name": "python3"
  },
  "language_info": {
   "codemirror_mode": {
    "name": "ipython",
    "version": 3
   },
   "file_extension": ".py",
   "mimetype": "text/x-python",
   "name": "python",
   "nbconvert_exporter": "python",
   "pygments_lexer": "ipython3",
   "version": "3.7.4"
  }
 },
 "nbformat": 4,
 "nbformat_minor": 2
}
