{
 "cells": [
  {
   "cell_type": "markdown",
   "metadata": {},
   "source": [
    "<!--NOTEBOOK_HEADER-->\n",
    "*This notebook contains material from [nbpages](https://jckantor.github.io/nbpages) by Jeffrey Kantor (jeff at nd.edu);\n",
    "content is available [on Github](https://github.com/jckantor/nbpages.git). The text is released under the\n",
    "[CC-BY-NC-ND-4.0 license](https://creativecommons.org/licenses/by-nc-nd/4.0/legalcode),\n",
    "and code is released under the [MIT license](https://opensource.org/licenses/MIT).*"
   ]
  },
  {
   "cell_type": "markdown",
   "metadata": {},
   "source": [
    "<!--NAVIGATION-->\n",
    "| [Contents](toc.html) | [Tag Index](tag_index.html) | [1.1 Notebook naming and ancillary/generated files](https://jckantor.github.io/nbpages/01.01-Notebook-Naming-and-Ancillary-Files.html) ><p><a href=\"https://colab.research.google.com/github/jckantor/nbpages/blob/master/notebooks-public/01.00-Style-Guide.ipynb\"> <img align=\"left\" src=\"https://colab.research.google.com/assets/colab-badge.svg\" alt=\"Open in Colab\" title=\"Open in Google Colaboratory\"></a><p><a href=\"https://jckantor.github.io/nbpages/01.00-Style-Guide.ipynb\"> <img align=\"left\" src=\"https://img.shields.io/badge/Github-Download-blue.svg\" alt=\"Download\" title=\"Download Notebook\"></a>"
   ]
  },
  {
   "cell_type": "markdown",
   "metadata": {
    "nbpages": {
     "level": 1,
     "link": "[1.0 Style Guide](https://jckantor.github.io/nbpages/01.00-Style-Guide.html#1.0-Style-Guide)",
     "section": "1.0 Style Guide"
    },
    "pycharm": {}
   },
   "source": [
    "# 1.0 Style Guide\n",
    "\n",
    "Keywords: style guide, notebook format"
   ]
  },
  {
   "cell_type": "markdown",
   "metadata": {
    "nbpages": {
     "level": 1,
     "link": "[1.0 Style Guide](https://jckantor.github.io/nbpages/01.00-Style-Guide.html#1.0-Style-Guide)",
     "section": "1.0 Style Guide"
    },
    "pycharm": {}
   },
   "source": [
    "Maintaining a collection of Jupyter notebooks requires attention to important details, among them are the structure and style of the individual notebooks. Maintaining a consistent notebook style enables use of tools to automate management of the collection. The purpose of this notebook is document a standard style suited to management using [nbpages]{https://jckantor.github.io/nbpages) \n",
    "\n",
    "This style guide assumes the use of software tools to manage the collection of notebooks. The software tools will perform the following tasks:\n",
    "\n",
    "* Generate a `Readme.md` file to be written to the top-level directory.\n",
    "* Generate a table of contents written to `toc.md` and `toc.ipynb` in the notebooks directory.\n",
    "* Insert and update a common header for all notebooks\n",
    "* Insert and update a navigation bar located in the second and terminal cell of each notebook.\n",
    "* A listing of all links and figures found in the notebooks.\n",
    "* A listing of stylistic `lint` encountered during the processing of the notebooks."
   ]
  },
  {
   "cell_type": "markdown",
   "metadata": {
    "nbpages": {
     "level": 2,
     "link": "[1.0.1 Further reading](https://jckantor.github.io/nbpages/01.00-Style-Guide.html#1.0.1-Further-reading)",
     "section": "1.0.1 Further reading"
    },
    "pycharm": {}
   },
   "source": [
    "## 1.0.1 Further reading"
   ]
  },
  {
   "cell_type": "markdown",
   "metadata": {
    "nbpages": {
     "level": 2,
     "link": "[1.0.1 Further reading](https://jckantor.github.io/nbpages/01.00-Style-Guide.html#1.0.1-Further-reading)",
     "section": "1.0.1 Further reading"
    },
    "pycharm": {}
   },
   "source": [
    "* [Space Telescope Science Institute Style Guide](https://github.com/spacetelescope/style-guides/blob/master/guides/jupyter-notebooks.md)\n",
    "* [Jupyter notebook best practices and style guide](https://github.com/chrisvoncsefalvay/jupyter-best-practices)\n",
    "* [Dataquest: An In-Depth Style Guide for Data Science Projects](https://www.dataquest.io/blog/data-science-project-style-guide/)\n",
    "* [ESRI: Coding Standards for Jupyter Notebook](https://www.esri.com/about/newsroom/arcuser/coding-standards-for-jupyter-notebook/)"
   ]
  },
  {
   "cell_type": "markdown",
   "metadata": {
    "nbpages": {
     "level": 2,
     "link": "[1.0](https://jckantor.github.io/nbpages/01.00-Style-Guide.html#1.0)",
     "section": "1.0"
    },
    "pycharm": {}
   },
   "source": [
    "# 1.0"
   ]
  },
  {
   "cell_type": "markdown",
   "metadata": {},
   "source": [
    "<!--NAVIGATION-->\n",
    "| [Contents](toc.html) | [Tag Index](tag_index.html) | [1.1 Notebook naming and ancillary/generated files](https://jckantor.github.io/nbpages/01.01-Notebook-Naming-and-Ancillary-Files.html) ><p><a href=\"https://colab.research.google.com/github/jckantor/nbpages/blob/master/notebooks-public/01.00-Style-Guide.ipynb\"> <img align=\"left\" src=\"https://colab.research.google.com/assets/colab-badge.svg\" alt=\"Open in Colab\" title=\"Open in Google Colaboratory\"></a><p><a href=\"https://jckantor.github.io/nbpages/01.00-Style-Guide.ipynb\"> <img align=\"left\" src=\"https://img.shields.io/badge/Github-Download-blue.svg\" alt=\"Download\" title=\"Download Notebook\"></a>"
   ]
  }
 ],
 "metadata": {
  "celltoolbar": "Tags",
  "kernelspec": {
   "display_name": "Python 3",
   "language": "python",
   "name": "python3"
  },
  "language_info": {
   "codemirror_mode": {
    "name": "ipython",
    "version": 3
   },
   "file_extension": ".py",
   "mimetype": "text/x-python",
   "name": "python",
   "nbconvert_exporter": "python",
   "pygments_lexer": "ipython3",
   "version": "3.7.4"
  }
 },
 "nbformat": 4,
 "nbformat_minor": 2
}
