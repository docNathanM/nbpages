{
 "cells": [
  {
   "cell_type": "markdown",
   "metadata": {},
   "source": [
    "<!--NOTEBOOK_HEADER-->\n",
    "*This notebook contains material from [nbpages](https://jckantor.github.io/nbpages) by Jeffrey Kantor (jeff at nd.edu);\n",
    "content is available [on Github](https://github.com/jckantor/nbpages.git). The text is released under the\n",
    "[CC-BY-NC-ND-4.0 license](https://creativecommons.org/licenses/by-nc-nd/4.0/legalcode),\n",
    "and code is released under the [MIT license](https://opensource.org/licenses/MIT).*"
   ]
  },
  {
   "cell_type": "markdown",
   "metadata": {},
   "source": [
    "<!--NAVIGATION-->\n",
    "< [1.3 External Files](https://jckantor.github.io/nbpages/01.03-External-Files.html) | [Contents](toc.html) | [Tag Index](tag_index.html) | [2.0 Examples](https://jckantor.github.io/nbpages/02.00-Examples.html) ><p><a href=\"https://colab.research.google.com/github/jckantor/nbpages/blob/master/notebooks-public/01.04-Coding.ipynb\"> <img align=\"left\" src=\"https://colab.research.google.com/assets/colab-badge.svg\" alt=\"Open in Colab\" title=\"Open in Google Colaboratory\"></a><p><a href=\"https://jckantor.github.io/nbpages/downloads/01.04-Coding.ipynb\"> <img align=\"left\" src=\"https://img.shields.io/badge/Github-Download-blue.svg\" alt=\"Download\" title=\"Download Notebook\"></a>"
   ]
  },
  {
   "cell_type": "markdown",
   "metadata": {
    "nbpages": {
     "level": 1,
     "link": "[1.4 Coding Style](https://jckantor.github.io/nbpages/01.04-Coding.html#1.4-Coding-Style)",
     "section": "1.4 Coding Style"
    }
   },
   "source": [
    "# 1.4 Coding Style"
   ]
  },
  {
   "cell_type": "markdown",
   "metadata": {
    "nbpages": {
     "level": 2,
     "link": "[1.4.1 Design for portability](https://jckantor.github.io/nbpages/01.04-Coding.html#1.4.1-Design-for-portability)",
     "section": "1.4.1 Design for portability"
    }
   },
   "source": [
    "## 1.4.1 Design for portability\n",
    "\n",
    "Notebooks are intended as durable and robust means of communicating with a diverse audience. To this end, special effort attemtion must be given to making it possible to run the notebooks on multiple platforms. "
   ]
  },
  {
   "cell_type": "markdown",
   "metadata": {
    "nbpages": {
     "level": 2,
     "link": "[1.4.2 Installations and imports](https://jckantor.github.io/nbpages/01.04-Coding.html#1.4.2-Installations-and-imports)",
     "section": "1.4.2 Installations and imports"
    }
   },
   "source": [
    "## 1.4.2 Installations and imports\n",
    "\n",
    "It is good practice to include all necessary installations and imports in the first executable cell of a notebook, and may be included in a special section entitled **Installations and imports**.\n",
    "\n",
    "To the extent possible, the installation and import cells should be written to run cross-platform without raising exceptions. Code should be written assumming the standard Python libraries, including Matplotlib, Numpy, Pandas, and Scipy, are present. Any needed installations should included in the first code cell of the notebook and written for cross-platform use. For example, the following code installs `glpk` for Google Colaboratory.\n",
    "\n",
    "    import sys\n",
    "    if 'google.colab' in sys.modules:\n",
    "        !pip install pyomo\n",
    "        !pin install glpk\n",
    "        \n",
    "A try/except may be used to avoid repeated installation attempts on a user laptop:\n",
    "\n",
    "    try:\n",
    "        import glpk\n",
    "    except:\n",
    "        !pip install glpk\n",
    "        import glpk"
   ]
  },
  {
   "cell_type": "code",
   "execution_count": null,
   "metadata": {
    "nbpages": {
     "level": 2,
     "link": "[1.4.2 Installations and imports](https://jckantor.github.io/nbpages/01.04-Coding.html#1.4.2-Installations-and-imports)",
     "section": "1.4.2 Installations and imports"
    }
   },
   "outputs": [],
   "source": []
  },
  {
   "cell_type": "markdown",
   "metadata": {},
   "source": [
    "<!--NAVIGATION-->\n",
    "< [1.3 External Files](https://jckantor.github.io/nbpages/01.03-External-Files.html) | [Contents](toc.html) | [Tag Index](tag_index.html) | [2.0 Examples](https://jckantor.github.io/nbpages/02.00-Examples.html) ><p><a href=\"https://colab.research.google.com/github/jckantor/nbpages/blob/master/notebooks-public/01.04-Coding.ipynb\"> <img align=\"left\" src=\"https://colab.research.google.com/assets/colab-badge.svg\" alt=\"Open in Colab\" title=\"Open in Google Colaboratory\"></a><p><a href=\"https://jckantor.github.io/nbpages/downloads/01.04-Coding.ipynb\"> <img align=\"left\" src=\"https://img.shields.io/badge/Github-Download-blue.svg\" alt=\"Download\" title=\"Download Notebook\"></a>"
   ]
  }
 ],
 "metadata": {
  "kernelspec": {
   "display_name": "Python 3",
   "language": "python",
   "name": "python3"
  },
  "language_info": {
   "codemirror_mode": {
    "name": "ipython",
    "version": 3
   },
   "file_extension": ".py",
   "mimetype": "text/x-python",
   "name": "python",
   "nbconvert_exporter": "python",
   "pygments_lexer": "ipython3",
   "version": "3.7.4"
  }
 },
 "nbformat": 4,
 "nbformat_minor": 2
}
