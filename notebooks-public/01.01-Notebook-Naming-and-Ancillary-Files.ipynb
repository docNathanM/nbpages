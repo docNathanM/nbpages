{
 "cells": [
  {
   "cell_type": "markdown",
   "metadata": {},
   "source": [
    "<!--NOTEBOOK_HEADER-->\n",
    "*This notebook contains material from [nbpages](https://jckantor.github.io/nbpages) by Jeffrey Kantor (jeff at nd.edu);\n",
    "content is available [on Github](https://github.com/jckantor/nbpages.git). The text is released under the\n",
    "[CC-BY-NC-ND-4.0 license](https://creativecommons.org/licenses/by-nc-nd/4.0/legalcode),\n",
    "and code is released under the [MIT license](https://opensource.org/licenses/MIT).*"
   ]
  },
  {
   "cell_type": "markdown",
   "metadata": {},
   "source": [
    "<!--NAVIGATION-->\n",
    "< [1.0 Style Guide](https://jckantor.github.io/nbpages/01.00-Style-Guide.html) | [Contents](toc.ipynb) | [Tag Index](index.ipynb) | [1.2 Notebook Style](https://jckantor.github.io/nbpages/01.02-Notebook-Style.html) ><p><a href=\"https://colab.research.google.com/github/jckantor/nbpages/blob/master/notebooks-public/01.01-Notebook-Naming-and-Ancillary-Files.ipynb\"> <img align=\"left\" src=\"https://colab.research.google.com/assets/colab-badge.svg\" alt=\"Open in Colab\" title=\"Open in Google Colaboratory\"></a><p><a href=\"https://raw.githubusercontent.com/jckantor/nbpages/master/notebooks-public/01.01-Notebook-Naming-and-Ancillary-Files.ipynb\"> <img align=\"left\" src=\"https://img.shields.io/badge/Github-Download-blue.svg\" alt=\"Download\" title=\"Download Notebook\"></a>"
   ]
  },
  {
   "cell_type": "markdown",
   "metadata": {
    "nbpages": {
     "level": 1,
     "link": "[1.1 Notebook naming and ancillary/generated files](https://jckantor.github.io/nbpages/01.01-Notebook-Naming-and-Ancillary-Files.html#1.1-Notebook-naming-and-ancillary/generated-files)",
     "section": "1.1 Notebook naming and ancillary/generated files"
    }
   },
   "source": [
    "# 1.1 Notebook naming and ancillary/generated files\n",
    "\n",
    "All notebooks in a repository should reside in a single top-level directory named `notebooks`. The filenames begin with a prefix indicating their position in book-like organization. The first two digits indicate a chapter number with 00 reserved for front matter. Replacing the digits with a character indicates an appendix. Following a separating '.', a second pair of digits indicates a section with the front matter, chapter, or appendix. A hyphen separates the prefix from the rest of the filename. The standard `.ipynb` Jupyter notebook suffix is required.\n",
    "\n",
    "Any local data or figures used or created by the notebooks should be included within subdirectories located within the notebooks directory.\n",
    "\n",
    "    my-repository-title/\n",
    "    |-- notebooks/\n",
    "        |--data/\n",
    "        |--figures/\n",
    "        |--00.00-Style-Guide.ipynb\n",
    "        |--01.00-Getting-Started.ipynb\n",
    "        |--01.01-First-Section.ipynb\n",
    "        |--02.00-Second-Chapter.ipynb"
   ]
  },
  {
   "cell_type": "code",
   "execution_count": null,
   "metadata": {
    "nbpages": {
     "level": 1,
     "link": "[1.1 Notebook naming and ancillary/generated files](https://jckantor.github.io/nbpages/01.01-Notebook-Naming-and-Ancillary-Files.html#1.1-Notebook-naming-and-ancillary/generated-files)",
     "section": "1.1 Notebook naming and ancillary/generated files"
    }
   },
   "outputs": [],
   "source": []
  },
  {
   "cell_type": "markdown",
   "metadata": {},
   "source": [
    "<!--NAVIGATION-->\n",
    "< [1.0 Style Guide](https://jckantor.github.io/nbpages/01.00-Style-Guide.html) | [Contents](toc.ipynb) | [Tag Index](index.ipynb) | [1.2 Notebook Style](https://jckantor.github.io/nbpages/01.02-Notebook-Style.html) ><p><a href=\"https://colab.research.google.com/github/jckantor/nbpages/blob/master/notebooks-public/01.01-Notebook-Naming-and-Ancillary-Files.ipynb\"> <img align=\"left\" src=\"https://colab.research.google.com/assets/colab-badge.svg\" alt=\"Open in Colab\" title=\"Open in Google Colaboratory\"></a><p><a href=\"https://raw.githubusercontent.com/jckantor/nbpages/master/notebooks-public/01.01-Notebook-Naming-and-Ancillary-Files.ipynb\"> <img align=\"left\" src=\"https://img.shields.io/badge/Github-Download-blue.svg\" alt=\"Download\" title=\"Download Notebook\"></a>"
   ]
  }
 ],
 "metadata": {
  "kernelspec": {
   "display_name": "Python 3",
   "language": "python",
   "name": "python3"
  },
  "language_info": {
   "codemirror_mode": {
    "name": "ipython",
    "version": 3
   },
   "file_extension": ".py",
   "mimetype": "text/x-python",
   "name": "python",
   "nbconvert_exporter": "python",
   "pygments_lexer": "ipython3",
   "version": "3.7.4"
  }
 },
 "nbformat": 4,
 "nbformat_minor": 2
}
