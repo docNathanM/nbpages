{
 "cells": [
  {
   "cell_type": "markdown",
   "metadata": {},
   "source": [
    "# [nbpages](https://jckantor.github.io/nbpages)\n",
    "\n",
    "## Keyword Index\n",
    "\n",
    "* notebook format\n",
    "    - [1.0 Style Guide](https://jckantor.github.io/nbpages/01.00-Style-Guide.html#1.0-Style-Guide)\n",
    "* style guide\n",
    "    - [1.0 Style Guide](https://jckantor.github.io/nbpages/01.00-Style-Guide.html#1.0-Style-Guide)\n",
    "\n",
    "## Tag Index\n",
    "\n",
    "* hi::world\n",
    "    - [2.0 Examples](https://jckantor.github.io/nbpages/02.00-Examples.html#2.0-Examples)\n",
    "* mathematics\n",
    "    - [2.0 Examples](https://jckantor.github.io/nbpages/02.00-Examples.html#2.0-Examples)\n",
    "* exercise\n",
    "    - [2.0 Examples](https://jckantor.github.io/nbpages/02.00-Examples.html#2.0-Examples)\n",
    "* solution\n",
    "    - [2.0 Examples](https://jckantor.github.io/nbpages/02.00-Examples.html#2.0-Examples)"
   ]
  }
 ],
 "metadata": {},
 "nbformat": 4,
 "nbformat_minor": 2
}
