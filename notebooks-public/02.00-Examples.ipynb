{
 "cells": [
  {
   "cell_type": "markdown",
   "metadata": {},
   "source": [
    "<!--NOTEBOOK_HEADER-->\n",
    "*This notebook contains material from [nbpages](https://jckantor.github.io/nbpages) by Jeffrey Kantor (jeff at nd.edu);\n",
    "content is available [on Github](https://github.com/jckantor/nbpages.git). The text is released under the\n",
    "[CC-BY-NC-ND-4.0 license](https://creativecommons.org/licenses/by-nc-nd/4.0/legalcode),\n",
    "and code is released under the [MIT license](https://opensource.org/licenses/MIT).*"
   ]
  },
  {
   "cell_type": "markdown",
   "metadata": {},
   "source": [
    "<!--NAVIGATION-->\n",
    "< [1.4 Coding Style](https://jckantor.github.io/nbpages/01.04-Coding.html) | [Contents](toc.html) | [Tag Index](tag_index.html) |<p><a href=\"https://colab.research.google.com/github/jckantor/nbpages/blob/master/notebooks-public/02.00-Examples.ipynb\"> <img align=\"left\" src=\"https://colab.research.google.com/assets/colab-badge.svg\" alt=\"Open in Colab\" title=\"Open in Google Colaboratory\"></a>$~$<p><a href=\"https://raw.githubusercontent.com/jckantor/nbpages/master/docs/02.00-Examples.ipynb\"> <img align=\"left\" src=\"https://img.shields.io/badge/Github-Download-blue.svg\" alt=\"Download\" title=\"Download Notebook\"></a>"
   ]
  },
  {
   "cell_type": "markdown",
   "metadata": {
    "nbpages": {
     "level": 1,
     "link": "[2.0 Examples](https://jckantor.github.io/nbpages/02.00-Examples.html#2.0-Examples)",
     "section": "2.0 Examples"
    },
    "tags": [
     "hi::world"
    ]
   },
   "source": [
    "# 2.0 Examples"
   ]
  },
  {
   "cell_type": "markdown",
   "metadata": {
    "nbpages": {
     "level": 1,
     "link": "[2.0 Examples](https://jckantor.github.io/nbpages/02.00-Examples.html#2.0-Examples)",
     "section": "2.0 Examples"
    }
   },
   "source": [
    "* [CBE 20255 Introduction to Chemical Engineering Analysis](http://jckantor.github.io/CBE20255/)\n",
    "* [CBE 30338 Chemical Process Control](http://jckantor.github.io/CBE30338/)\n",
    "* [CBE 40455 Process Operations](http://jckantor.github.io/CBE40455/)\n",
    "* [ND Pyomo Cookbook](https://jckantor.github.io/ND-Pyomo-Cookbook/)\n",
    "* [nbpages](https://jckantor.github.io/nbpages/)\n",
    "* [Controlling Natural Watersheds](https://jckantor.github.io/Controlling-Natural-Watersheds/)\n"
   ]
  },
  {
   "cell_type": "code",
   "execution_count": null,
   "metadata": {
    "nbpages": {
     "level": 1,
     "link": "[2.0 Examples](https://jckantor.github.io/nbpages/02.00-Examples.html#2.0-Examples)",
     "section": "2.0 Examples"
    },
    "tags": [
     "mathematics"
    ]
   },
   "outputs": [],
   "source": []
  },
  {
   "cell_type": "code",
   "execution_count": null,
   "metadata": {
    "nbpages": {
     "level": 1,
     "link": "[2.0 Examples](https://jckantor.github.io/nbpages/02.00-Examples.html#2.0-Examples)",
     "section": "2.0 Examples"
    },
    "tags": [
     "exercise",
     "solution"
    ]
   },
   "outputs": [],
   "source": []
  },
  {
   "cell_type": "markdown",
   "metadata": {},
   "source": [
    "<!--NAVIGATION-->\n",
    "< [1.4 Coding Style](https://jckantor.github.io/nbpages/01.04-Coding.html) | [Contents](toc.html) | [Tag Index](tag_index.html) |<p><a href=\"https://colab.research.google.com/github/jckantor/nbpages/blob/master/notebooks-public/02.00-Examples.ipynb\"> <img align=\"left\" src=\"https://colab.research.google.com/assets/colab-badge.svg\" alt=\"Open in Colab\" title=\"Open in Google Colaboratory\"></a>$~$<p><a href=\"https://raw.githubusercontent.com/jckantor/nbpages/master/docs/02.00-Examples.ipynb\"> <img align=\"left\" src=\"https://img.shields.io/badge/Github-Download-blue.svg\" alt=\"Download\" title=\"Download Notebook\"></a>"
   ]
  }
 ],
 "metadata": {
  "celltoolbar": "Tags",
  "kernelspec": {
   "display_name": "Python 3",
   "language": "python",
   "name": "python3"
  },
  "language_info": {
   "codemirror_mode": {
    "name": "ipython",
    "version": 3
   },
   "file_extension": ".py",
   "mimetype": "text/x-python",
   "name": "python",
   "nbconvert_exporter": "python",
   "pygments_lexer": "ipython3",
   "version": "3.7.4"
  }
 },
 "nbformat": 4,
 "nbformat_minor": 2
}
