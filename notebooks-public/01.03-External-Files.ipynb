{
 "cells": [
  {
   "cell_type": "markdown",
   "metadata": {},
   "source": [
    "<!--NOTEBOOK_HEADER-->\n",
    "*This notebook contains material from [nbpages](https://jckantor.github.io/nbpages) by Jeffrey Kantor (jeff at nd.edu);\n",
    "content is available [on Github](https://github.com/jckantor/nbpages.git). The text is released under the\n",
    "[CC-BY-NC-ND-4.0 license](https://creativecommons.org/licenses/by-nc-nd/4.0/legalcode),\n",
    "and code is released under the [MIT license](https://opensource.org/licenses/MIT).*"
   ]
  },
  {
   "cell_type": "markdown",
   "metadata": {},
   "source": [
    "<!--NAVIGATION-->\n",
    "< [1.2 Notebook Style](https://jckantor.github.io/nbpages/01.02-Notebook-Style.html) | [Contents](toc.html) | [Tag Index](tag_index.html) | [1.4 Coding Style](https://jckantor.github.io/nbpages/01.04-Coding.html) ><p><a href=\"https://colab.research.google.com/github/jckantor/nbpages/blob/master/notebooks-public/01.03-External-Files.ipynb\"> <img align=\"left\" src=\"https://colab.research.google.com/assets/colab-badge.svg\" alt=\"Open in Colab\" title=\"Open in Google Colaboratory\"></a>&nbsp;<p><a href=\"https://jckantor.github.io/nbpages/01.03-External-Files.ipynb\"> <img align=\"left\" src=\"https://img.shields.io/badge/Github-Download-blue.svg\" alt=\"Download\" title=\"Download Notebook\"></a>"
   ]
  },
  {
   "cell_type": "markdown",
   "metadata": {
    "nbpages": {
     "level": 1,
     "link": "[1.3 External Files](https://jckantor.github.io/nbpages/01.03-External-Files.html#1.3-External-Files)",
     "section": "1.3 External Files"
    }
   },
   "source": [
    "# 1.3 External Files"
   ]
  },
  {
   "cell_type": "markdown",
   "metadata": {
    "nbpages": {
     "level": 1,
     "link": "[1.3 External Files](https://jckantor.github.io/nbpages/01.03-External-Files.html#1.3-External-Files)",
     "section": "1.3 External Files"
    }
   },
   "source": [
    "Notebooks often incorporate figures, data, or video. Any external files must be appropriately licensed for reuse. If that isn't possible, then that information should be accessed by linking to a resource showing the user how to properly access that information.\n",
    "\n",
    "To facilitate use of the notebooks, external resources should be referenced by an external link whenever possible. If the resource must be included within repository, the link should be to the publically accessible repository. This practice enables cross-platform use of notebooks and streamlines the import and use of notebooks by other users."
   ]
  },
  {
   "cell_type": "markdown",
   "metadata": {
    "nbpages": {
     "level": 2,
     "link": "[1.3.1 Figures](https://jckantor.github.io/nbpages/01.03-External-Files.html#1.3.1-Figures)",
     "section": "1.3.1 Figures"
    }
   },
   "source": [
    "## 1.3.1 Figures\n",
    "\n",
    "Figures included within the repository should located within a common figures directory. This practice enables reuse of figures, and streamlines the editing and maintanence of figures. Figures should be `.png` or `.jpg` format as appropriate, and resized for use with the stndard markdown `![]()` markup.  Use of HTML image tags is discouraged and reported as 'lint'."
   ]
  },
  {
   "cell_type": "markdown",
   "metadata": {
    "nbpages": {
     "level": 2,
     "link": "[1.3.2 Data](https://jckantor.github.io/nbpages/01.03-External-Files.html#1.3.2-Data)",
     "section": "1.3.2 Data"
    }
   },
   "source": [
    "## 1.3.2 Data\n",
    "\n",
    "Data files distributed with the repository should be located within a common data directory. "
   ]
  },
  {
   "cell_type": "code",
   "execution_count": null,
   "metadata": {
    "nbpages": {
     "level": 2,
     "link": "[1.3.2 Data](https://jckantor.github.io/nbpages/01.03-External-Files.html#1.3.2-Data)",
     "section": "1.3.2 Data"
    }
   },
   "outputs": [],
   "source": []
  },
  {
   "cell_type": "markdown",
   "metadata": {},
   "source": [
    "<!--NAVIGATION-->\n",
    "< [1.2 Notebook Style](https://jckantor.github.io/nbpages/01.02-Notebook-Style.html) | [Contents](toc.html) | [Tag Index](tag_index.html) | [1.4 Coding Style](https://jckantor.github.io/nbpages/01.04-Coding.html) ><p><a href=\"https://colab.research.google.com/github/jckantor/nbpages/blob/master/notebooks-public/01.03-External-Files.ipynb\"> <img align=\"left\" src=\"https://colab.research.google.com/assets/colab-badge.svg\" alt=\"Open in Colab\" title=\"Open in Google Colaboratory\"></a>&nbsp;<p><a href=\"https://jckantor.github.io/nbpages/01.03-External-Files.ipynb\"> <img align=\"left\" src=\"https://img.shields.io/badge/Github-Download-blue.svg\" alt=\"Download\" title=\"Download Notebook\"></a>"
   ]
  }
 ],
 "metadata": {
  "kernelspec": {
   "display_name": "Python 3",
   "language": "python",
   "name": "python3"
  },
  "language_info": {
   "codemirror_mode": {
    "name": "ipython",
    "version": 3
   },
   "file_extension": ".py",
   "mimetype": "text/x-python",
   "name": "python",
   "nbconvert_exporter": "python",
   "pygments_lexer": "ipython3",
   "version": "3.7.4"
  }
 },
 "nbformat": 4,
 "nbformat_minor": 2
}
